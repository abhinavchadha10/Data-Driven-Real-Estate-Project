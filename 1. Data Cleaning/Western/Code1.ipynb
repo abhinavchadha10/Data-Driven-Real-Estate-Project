{
 "cells": [
  {
   "cell_type": "code",
   "execution_count": 2,
   "metadata": {},
   "outputs": [],
   "source": [
    "import pandas as pd\n",
    "import numpy as np\n",
    "import statistics"
   ]
  },
  {
   "cell_type": "code",
   "execution_count": 5,
   "metadata": {},
   "outputs": [
    {
     "data": {
      "text/plain": [
       "(7828, 37)"
      ]
     },
     "execution_count": 5,
     "metadata": {},
     "output_type": "execute_result"
    }
   ],
   "source": [
    "data1 = pd.read_excel('PropertyDataWestern.xlsx')\n",
    "data1.head()\n",
    "data1.shape"
   ]
  },
  {
   "cell_type": "markdown",
   "metadata": {},
   "source": [
    "## FIlter 1: Only selecting COmpleted Properties"
   ]
  },
  {
   "cell_type": "code",
   "execution_count": 4,
   "metadata": {},
   "outputs": [
    {
     "data": {
      "text/plain": [
       "(6217, 37)"
      ]
     },
     "execution_count": 4,
     "metadata": {},
     "output_type": "execute_result"
    }
   ],
   "source": [
    "filter1 = data1[data1.PROPERTY_STATUS == \"Completed\"]\n",
    "filter1.shape"
   ]
  },
  {
   "cell_type": "code",
   "execution_count": 6,
   "metadata": {},
   "outputs": [],
   "source": [
    "filter1['PROPERTY_RENTPERSQFT'] = filter1.PROPERTY_CURRENT_RENT/filter1.PROPERTY_SQFT"
   ]
  },
  {
   "cell_type": "code",
   "execution_count": 7,
   "metadata": {},
   "outputs": [
    {
     "data": {
      "text/html": [
       "<div>\n",
       "<style scoped>\n",
       "    .dataframe tbody tr th:only-of-type {\n",
       "        vertical-align: middle;\n",
       "    }\n",
       "\n",
       "    .dataframe tbody tr th {\n",
       "        vertical-align: top;\n",
       "    }\n",
       "\n",
       "    .dataframe thead th {\n",
       "        text-align: right;\n",
       "    }\n",
       "</style>\n",
       "<table border=\"1\" class=\"dataframe\">\n",
       "  <thead>\n",
       "    <tr style=\"text-align: right;\">\n",
       "      <th></th>\n",
       "      <th>PROPERTY_ID</th>\n",
       "      <th>MARKETID</th>\n",
       "      <th>MARKET_NAME</th>\n",
       "      <th>SUBMARKET_CODE</th>\n",
       "      <th>SUBMARKET_NAME</th>\n",
       "      <th>COUNTY_NAME</th>\n",
       "      <th>PROPERTY_NAME</th>\n",
       "      <th>PROPERTY_PRIORNAMES</th>\n",
       "      <th>PROPERTY_ADDRESS</th>\n",
       "      <th>PROPERTY_CITY</th>\n",
       "      <th>...</th>\n",
       "      <th>PROPERTY_AFFORDABLEHOUSING</th>\n",
       "      <th>PROPERTY_MILITARYHOUSING</th>\n",
       "      <th>PROPERTY_AGERESTRICTED</th>\n",
       "      <th>PROPERTY_FRACTUREDCONDO</th>\n",
       "      <th>PROPERTY_ADAPTIVEREUSE</th>\n",
       "      <th>PROPERTY_SINGLEFAMILYRENTAL</th>\n",
       "      <th>PROPERTY_CURRENT_OCCUPANCY</th>\n",
       "      <th>PROPERTY_CURRENT_RENT</th>\n",
       "      <th>PROPERTY_MATRIX_URL</th>\n",
       "      <th>PROPERTY_RENTPERSQFT</th>\n",
       "    </tr>\n",
       "  </thead>\n",
       "  <tbody>\n",
       "    <tr>\n",
       "      <th>0</th>\n",
       "      <td>1_1004</td>\n",
       "      <td>1</td>\n",
       "      <td>Phoenix</td>\n",
       "      <td>17N</td>\n",
       "      <td>North Mesa</td>\n",
       "      <td>Maricopa</td>\n",
       "      <td>MagaÃ±a</td>\n",
       "      <td>Parkview</td>\n",
       "      <td>1628 East Broadway Road</td>\n",
       "      <td>Mesa</td>\n",
       "      <td>...</td>\n",
       "      <td>N</td>\n",
       "      <td>NaN</td>\n",
       "      <td>N</td>\n",
       "      <td>NaN</td>\n",
       "      <td>NaN</td>\n",
       "      <td>NaN</td>\n",
       "      <td>100.0</td>\n",
       "      <td>815.0</td>\n",
       "      <td>matrix.pi-ei.com/PropertyDetail/All?MarketID=1...</td>\n",
       "      <td>0.018544</td>\n",
       "    </tr>\n",
       "    <tr>\n",
       "      <th>1</th>\n",
       "      <td>1_1024</td>\n",
       "      <td>1</td>\n",
       "      <td>Phoenix</td>\n",
       "      <td>2N</td>\n",
       "      <td>North Paradise Valley</td>\n",
       "      <td>Maricopa</td>\n",
       "      <td>Mission Springs</td>\n",
       "      <td>NaN</td>\n",
       "      <td>16818 North 56th Street</td>\n",
       "      <td>Scottsdale</td>\n",
       "      <td>...</td>\n",
       "      <td>N</td>\n",
       "      <td>N</td>\n",
       "      <td>N</td>\n",
       "      <td>NaN</td>\n",
       "      <td>NaN</td>\n",
       "      <td>NaN</td>\n",
       "      <td>98.0</td>\n",
       "      <td>1689.0</td>\n",
       "      <td>matrix.pi-ei.com/PropertyDetail/All?MarketID=1...</td>\n",
       "      <td>0.035071</td>\n",
       "    </tr>\n",
       "    <tr>\n",
       "      <th>2</th>\n",
       "      <td>1_1030</td>\n",
       "      <td>1</td>\n",
       "      <td>Phoenix</td>\n",
       "      <td>10</td>\n",
       "      <td>Central East Phoenix</td>\n",
       "      <td>Maricopa</td>\n",
       "      <td>Papago Buttes</td>\n",
       "      <td>NaN</td>\n",
       "      <td>402 North 52nd Street</td>\n",
       "      <td>Phoenix</td>\n",
       "      <td>...</td>\n",
       "      <td>N</td>\n",
       "      <td>NaN</td>\n",
       "      <td>N</td>\n",
       "      <td>NaN</td>\n",
       "      <td>NaN</td>\n",
       "      <td>NaN</td>\n",
       "      <td>90.4</td>\n",
       "      <td>1222.0</td>\n",
       "      <td>matrix.pi-ei.com/PropertyDetail/All?MarketID=1...</td>\n",
       "      <td>0.040826</td>\n",
       "    </tr>\n",
       "    <tr>\n",
       "      <th>3</th>\n",
       "      <td>1_104</td>\n",
       "      <td>1</td>\n",
       "      <td>Phoenix</td>\n",
       "      <td>21E</td>\n",
       "      <td>Union Hills</td>\n",
       "      <td>Maricopa</td>\n",
       "      <td>Courtyard Village</td>\n",
       "      <td>La Miradora</td>\n",
       "      <td>17609 North 19th Avenue</td>\n",
       "      <td>Phoenix</td>\n",
       "      <td>...</td>\n",
       "      <td>N</td>\n",
       "      <td>N</td>\n",
       "      <td>N</td>\n",
       "      <td>N</td>\n",
       "      <td>0.0</td>\n",
       "      <td>NaN</td>\n",
       "      <td>96.4</td>\n",
       "      <td>1279.0</td>\n",
       "      <td>matrix.pi-ei.com/PropertyDetail/All?MarketID=1...</td>\n",
       "      <td>0.024427</td>\n",
       "    </tr>\n",
       "    <tr>\n",
       "      <th>4</th>\n",
       "      <td>1_1091</td>\n",
       "      <td>1</td>\n",
       "      <td>Phoenix</td>\n",
       "      <td>3</td>\n",
       "      <td>Sunnyslope</td>\n",
       "      <td>Maricopa</td>\n",
       "      <td>Sahuaro West</td>\n",
       "      <td>NaN</td>\n",
       "      <td>1650 West Sahuaro Drive</td>\n",
       "      <td>Phoenix</td>\n",
       "      <td>...</td>\n",
       "      <td>A</td>\n",
       "      <td>NaN</td>\n",
       "      <td>N</td>\n",
       "      <td>NaN</td>\n",
       "      <td>NaN</td>\n",
       "      <td>NaN</td>\n",
       "      <td>NaN</td>\n",
       "      <td>NaN</td>\n",
       "      <td>matrix.pi-ei.com/PropertyDetail/All?MarketID=1...</td>\n",
       "      <td>NaN</td>\n",
       "    </tr>\n",
       "  </tbody>\n",
       "</table>\n",
       "<p>5 rows × 38 columns</p>\n",
       "</div>"
      ],
      "text/plain": [
       "  PROPERTY_ID  MARKETID MARKET_NAME SUBMARKET_CODE         SUBMARKET_NAME  \\\n",
       "0      1_1004         1     Phoenix            17N             North Mesa   \n",
       "1      1_1024         1     Phoenix             2N  North Paradise Valley   \n",
       "2      1_1030         1     Phoenix             10   Central East Phoenix   \n",
       "3       1_104         1     Phoenix            21E            Union Hills   \n",
       "4      1_1091         1     Phoenix              3             Sunnyslope   \n",
       "\n",
       "  COUNTY_NAME      PROPERTY_NAME PROPERTY_PRIORNAMES         PROPERTY_ADDRESS  \\\n",
       "0    Maricopa            MagaÃ±a            Parkview  1628 East Broadway Road   \n",
       "1    Maricopa    Mission Springs                 NaN  16818 North 56th Street   \n",
       "2    Maricopa      Papago Buttes                 NaN    402 North 52nd Street   \n",
       "3    Maricopa  Courtyard Village         La Miradora  17609 North 19th Avenue   \n",
       "4    Maricopa       Sahuaro West                 NaN  1650 West Sahuaro Drive   \n",
       "\n",
       "  PROPERTY_CITY  ... PROPERTY_AFFORDABLEHOUSING  PROPERTY_MILITARYHOUSING  \\\n",
       "0          Mesa  ...                          N                       NaN   \n",
       "1    Scottsdale  ...                          N                         N   \n",
       "2       Phoenix  ...                          N                       NaN   \n",
       "3       Phoenix  ...                          N                         N   \n",
       "4       Phoenix  ...                          A                       NaN   \n",
       "\n",
       "   PROPERTY_AGERESTRICTED  PROPERTY_FRACTUREDCONDO  PROPERTY_ADAPTIVEREUSE  \\\n",
       "0                       N                      NaN                     NaN   \n",
       "1                       N                      NaN                     NaN   \n",
       "2                       N                      NaN                     NaN   \n",
       "3                       N                        N                     0.0   \n",
       "4                       N                      NaN                     NaN   \n",
       "\n",
       "   PROPERTY_SINGLEFAMILYRENTAL  PROPERTY_CURRENT_OCCUPANCY  \\\n",
       "0                          NaN                       100.0   \n",
       "1                          NaN                        98.0   \n",
       "2                          NaN                        90.4   \n",
       "3                          NaN                        96.4   \n",
       "4                          NaN                         NaN   \n",
       "\n",
       "   PROPERTY_CURRENT_RENT                                PROPERTY_MATRIX_URL  \\\n",
       "0                  815.0  matrix.pi-ei.com/PropertyDetail/All?MarketID=1...   \n",
       "1                 1689.0  matrix.pi-ei.com/PropertyDetail/All?MarketID=1...   \n",
       "2                 1222.0  matrix.pi-ei.com/PropertyDetail/All?MarketID=1...   \n",
       "3                 1279.0  matrix.pi-ei.com/PropertyDetail/All?MarketID=1...   \n",
       "4                    NaN  matrix.pi-ei.com/PropertyDetail/All?MarketID=1...   \n",
       "\n",
       "  PROPERTY_RENTPERSQFT  \n",
       "0             0.018544  \n",
       "1             0.035071  \n",
       "2             0.040826  \n",
       "3             0.024427  \n",
       "4                  NaN  \n",
       "\n",
       "[5 rows x 38 columns]"
      ]
     },
     "execution_count": 7,
     "metadata": {},
     "output_type": "execute_result"
    }
   ],
   "source": [
    "filter1.head()"
   ]
  },
  {
   "cell_type": "code",
   "execution_count": 8,
   "metadata": {},
   "outputs": [],
   "source": [
    "filter1['PROPERTY_RENTPERSQFTALLUNITS'] = filter1['PROPERTY_RENTPERSQFT']*filter1.PROPERTY_UNITS"
   ]
  },
  {
   "cell_type": "code",
   "execution_count": 9,
   "metadata": {},
   "outputs": [
    {
     "data": {
      "text/html": [
       "<div>\n",
       "<style scoped>\n",
       "    .dataframe tbody tr th:only-of-type {\n",
       "        vertical-align: middle;\n",
       "    }\n",
       "\n",
       "    .dataframe tbody tr th {\n",
       "        vertical-align: top;\n",
       "    }\n",
       "\n",
       "    .dataframe thead th {\n",
       "        text-align: right;\n",
       "    }\n",
       "</style>\n",
       "<table border=\"1\" class=\"dataframe\">\n",
       "  <thead>\n",
       "    <tr style=\"text-align: right;\">\n",
       "      <th></th>\n",
       "      <th>PROPERTY_ID</th>\n",
       "      <th>MARKETID</th>\n",
       "      <th>MARKET_NAME</th>\n",
       "      <th>SUBMARKET_CODE</th>\n",
       "      <th>SUBMARKET_NAME</th>\n",
       "      <th>COUNTY_NAME</th>\n",
       "      <th>PROPERTY_NAME</th>\n",
       "      <th>PROPERTY_PRIORNAMES</th>\n",
       "      <th>PROPERTY_ADDRESS</th>\n",
       "      <th>PROPERTY_CITY</th>\n",
       "      <th>...</th>\n",
       "      <th>PROPERTY_MILITARYHOUSING</th>\n",
       "      <th>PROPERTY_AGERESTRICTED</th>\n",
       "      <th>PROPERTY_FRACTUREDCONDO</th>\n",
       "      <th>PROPERTY_ADAPTIVEREUSE</th>\n",
       "      <th>PROPERTY_SINGLEFAMILYRENTAL</th>\n",
       "      <th>PROPERTY_CURRENT_OCCUPANCY</th>\n",
       "      <th>PROPERTY_CURRENT_RENT</th>\n",
       "      <th>PROPERTY_MATRIX_URL</th>\n",
       "      <th>PROPERTY_RENTPERSQFT</th>\n",
       "      <th>PROPERTY_RENTPERSQFTALLUNITS</th>\n",
       "    </tr>\n",
       "  </thead>\n",
       "  <tbody>\n",
       "    <tr>\n",
       "      <th>0</th>\n",
       "      <td>1_1004</td>\n",
       "      <td>1</td>\n",
       "      <td>Phoenix</td>\n",
       "      <td>17N</td>\n",
       "      <td>North Mesa</td>\n",
       "      <td>Maricopa</td>\n",
       "      <td>MagaÃ±a</td>\n",
       "      <td>Parkview</td>\n",
       "      <td>1628 East Broadway Road</td>\n",
       "      <td>Mesa</td>\n",
       "      <td>...</td>\n",
       "      <td>NaN</td>\n",
       "      <td>N</td>\n",
       "      <td>NaN</td>\n",
       "      <td>NaN</td>\n",
       "      <td>NaN</td>\n",
       "      <td>100.0</td>\n",
       "      <td>815.0</td>\n",
       "      <td>matrix.pi-ei.com/PropertyDetail/All?MarketID=1...</td>\n",
       "      <td>0.018544</td>\n",
       "      <td>1.094084</td>\n",
       "    </tr>\n",
       "    <tr>\n",
       "      <th>1</th>\n",
       "      <td>1_1024</td>\n",
       "      <td>1</td>\n",
       "      <td>Phoenix</td>\n",
       "      <td>2N</td>\n",
       "      <td>North Paradise Valley</td>\n",
       "      <td>Maricopa</td>\n",
       "      <td>Mission Springs</td>\n",
       "      <td>NaN</td>\n",
       "      <td>16818 North 56th Street</td>\n",
       "      <td>Scottsdale</td>\n",
       "      <td>...</td>\n",
       "      <td>N</td>\n",
       "      <td>N</td>\n",
       "      <td>NaN</td>\n",
       "      <td>NaN</td>\n",
       "      <td>NaN</td>\n",
       "      <td>98.0</td>\n",
       "      <td>1689.0</td>\n",
       "      <td>matrix.pi-ei.com/PropertyDetail/All?MarketID=1...</td>\n",
       "      <td>0.035071</td>\n",
       "      <td>1.753530</td>\n",
       "    </tr>\n",
       "    <tr>\n",
       "      <th>2</th>\n",
       "      <td>1_1030</td>\n",
       "      <td>1</td>\n",
       "      <td>Phoenix</td>\n",
       "      <td>10</td>\n",
       "      <td>Central East Phoenix</td>\n",
       "      <td>Maricopa</td>\n",
       "      <td>Papago Buttes</td>\n",
       "      <td>NaN</td>\n",
       "      <td>402 North 52nd Street</td>\n",
       "      <td>Phoenix</td>\n",
       "      <td>...</td>\n",
       "      <td>NaN</td>\n",
       "      <td>N</td>\n",
       "      <td>NaN</td>\n",
       "      <td>NaN</td>\n",
       "      <td>NaN</td>\n",
       "      <td>90.4</td>\n",
       "      <td>1222.0</td>\n",
       "      <td>matrix.pi-ei.com/PropertyDetail/All?MarketID=1...</td>\n",
       "      <td>0.040826</td>\n",
       "      <td>2.122945</td>\n",
       "    </tr>\n",
       "    <tr>\n",
       "      <th>3</th>\n",
       "      <td>1_104</td>\n",
       "      <td>1</td>\n",
       "      <td>Phoenix</td>\n",
       "      <td>21E</td>\n",
       "      <td>Union Hills</td>\n",
       "      <td>Maricopa</td>\n",
       "      <td>Courtyard Village</td>\n",
       "      <td>La Miradora</td>\n",
       "      <td>17609 North 19th Avenue</td>\n",
       "      <td>Phoenix</td>\n",
       "      <td>...</td>\n",
       "      <td>N</td>\n",
       "      <td>N</td>\n",
       "      <td>N</td>\n",
       "      <td>0.0</td>\n",
       "      <td>NaN</td>\n",
       "      <td>96.4</td>\n",
       "      <td>1279.0</td>\n",
       "      <td>matrix.pi-ei.com/PropertyDetail/All?MarketID=1...</td>\n",
       "      <td>0.024427</td>\n",
       "      <td>1.367914</td>\n",
       "    </tr>\n",
       "    <tr>\n",
       "      <th>4</th>\n",
       "      <td>1_1091</td>\n",
       "      <td>1</td>\n",
       "      <td>Phoenix</td>\n",
       "      <td>3</td>\n",
       "      <td>Sunnyslope</td>\n",
       "      <td>Maricopa</td>\n",
       "      <td>Sahuaro West</td>\n",
       "      <td>NaN</td>\n",
       "      <td>1650 West Sahuaro Drive</td>\n",
       "      <td>Phoenix</td>\n",
       "      <td>...</td>\n",
       "      <td>NaN</td>\n",
       "      <td>N</td>\n",
       "      <td>NaN</td>\n",
       "      <td>NaN</td>\n",
       "      <td>NaN</td>\n",
       "      <td>NaN</td>\n",
       "      <td>NaN</td>\n",
       "      <td>matrix.pi-ei.com/PropertyDetail/All?MarketID=1...</td>\n",
       "      <td>NaN</td>\n",
       "      <td>NaN</td>\n",
       "    </tr>\n",
       "  </tbody>\n",
       "</table>\n",
       "<p>5 rows × 39 columns</p>\n",
       "</div>"
      ],
      "text/plain": [
       "  PROPERTY_ID  MARKETID MARKET_NAME SUBMARKET_CODE         SUBMARKET_NAME  \\\n",
       "0      1_1004         1     Phoenix            17N             North Mesa   \n",
       "1      1_1024         1     Phoenix             2N  North Paradise Valley   \n",
       "2      1_1030         1     Phoenix             10   Central East Phoenix   \n",
       "3       1_104         1     Phoenix            21E            Union Hills   \n",
       "4      1_1091         1     Phoenix              3             Sunnyslope   \n",
       "\n",
       "  COUNTY_NAME      PROPERTY_NAME PROPERTY_PRIORNAMES         PROPERTY_ADDRESS  \\\n",
       "0    Maricopa            MagaÃ±a            Parkview  1628 East Broadway Road   \n",
       "1    Maricopa    Mission Springs                 NaN  16818 North 56th Street   \n",
       "2    Maricopa      Papago Buttes                 NaN    402 North 52nd Street   \n",
       "3    Maricopa  Courtyard Village         La Miradora  17609 North 19th Avenue   \n",
       "4    Maricopa       Sahuaro West                 NaN  1650 West Sahuaro Drive   \n",
       "\n",
       "  PROPERTY_CITY  ... PROPERTY_MILITARYHOUSING  PROPERTY_AGERESTRICTED  \\\n",
       "0          Mesa  ...                      NaN                       N   \n",
       "1    Scottsdale  ...                        N                       N   \n",
       "2       Phoenix  ...                      NaN                       N   \n",
       "3       Phoenix  ...                        N                       N   \n",
       "4       Phoenix  ...                      NaN                       N   \n",
       "\n",
       "   PROPERTY_FRACTUREDCONDO  PROPERTY_ADAPTIVEREUSE  \\\n",
       "0                      NaN                     NaN   \n",
       "1                      NaN                     NaN   \n",
       "2                      NaN                     NaN   \n",
       "3                        N                     0.0   \n",
       "4                      NaN                     NaN   \n",
       "\n",
       "   PROPERTY_SINGLEFAMILYRENTAL  PROPERTY_CURRENT_OCCUPANCY  \\\n",
       "0                          NaN                       100.0   \n",
       "1                          NaN                        98.0   \n",
       "2                          NaN                        90.4   \n",
       "3                          NaN                        96.4   \n",
       "4                          NaN                         NaN   \n",
       "\n",
       "   PROPERTY_CURRENT_RENT                                PROPERTY_MATRIX_URL  \\\n",
       "0                  815.0  matrix.pi-ei.com/PropertyDetail/All?MarketID=1...   \n",
       "1                 1689.0  matrix.pi-ei.com/PropertyDetail/All?MarketID=1...   \n",
       "2                 1222.0  matrix.pi-ei.com/PropertyDetail/All?MarketID=1...   \n",
       "3                 1279.0  matrix.pi-ei.com/PropertyDetail/All?MarketID=1...   \n",
       "4                    NaN  matrix.pi-ei.com/PropertyDetail/All?MarketID=1...   \n",
       "\n",
       "  PROPERTY_RENTPERSQFT PROPERTY_RENTPERSQFTALLUNITS  \n",
       "0             0.018544                     1.094084  \n",
       "1             0.035071                     1.753530  \n",
       "2             0.040826                     2.122945  \n",
       "3             0.024427                     1.367914  \n",
       "4                  NaN                          NaN  \n",
       "\n",
       "[5 rows x 39 columns]"
      ]
     },
     "execution_count": 9,
     "metadata": {},
     "output_type": "execute_result"
    }
   ],
   "source": [
    "filter1.head()"
   ]
  },
  {
   "cell_type": "markdown",
   "metadata": {},
   "source": [
    "## Filter 2: Removing Properties with no Rent information"
   ]
  },
  {
   "cell_type": "code",
   "execution_count": 10,
   "metadata": {},
   "outputs": [],
   "source": [
    "filter2 = filter1.dropna(subset = ['PROPERTY_RENTPERSQFTALLUNITS'])"
   ]
  },
  {
   "cell_type": "code",
   "execution_count": 11,
   "metadata": {},
   "outputs": [
    {
     "data": {
      "text/plain": [
       "(4961, 39)"
      ]
     },
     "execution_count": 11,
     "metadata": {},
     "output_type": "execute_result"
    }
   ],
   "source": [
    "filter2.shape"
   ]
  },
  {
   "cell_type": "code",
   "execution_count": 12,
   "metadata": {},
   "outputs": [
    {
     "data": {
      "text/html": [
       "<div>\n",
       "<style scoped>\n",
       "    .dataframe tbody tr th:only-of-type {\n",
       "        vertical-align: middle;\n",
       "    }\n",
       "\n",
       "    .dataframe tbody tr th {\n",
       "        vertical-align: top;\n",
       "    }\n",
       "\n",
       "    .dataframe thead th {\n",
       "        text-align: right;\n",
       "    }\n",
       "</style>\n",
       "<table border=\"1\" class=\"dataframe\">\n",
       "  <thead>\n",
       "    <tr style=\"text-align: right;\">\n",
       "      <th></th>\n",
       "      <th></th>\n",
       "      <th>MARKETID</th>\n",
       "      <th>PROPERTY_ZIPCODE</th>\n",
       "      <th>PROPERTY_LATITUDE</th>\n",
       "      <th>PROPERTY_LONGITUDE</th>\n",
       "      <th>PROPERTY_PHONE</th>\n",
       "      <th>PROPERTY_UNITS</th>\n",
       "      <th>PROPERTY_SQFT</th>\n",
       "      <th>PROPERTY_ACRES</th>\n",
       "      <th>PROPERTY_MIXEDUSE</th>\n",
       "      <th>PROPERTY_ADAPTIVEREUSE</th>\n",
       "      <th>PROPERTY_SINGLEFAMILYRENTAL</th>\n",
       "      <th>PROPERTY_CURRENT_OCCUPANCY</th>\n",
       "      <th>PROPERTY_CURRENT_RENT</th>\n",
       "      <th>PROPERTY_RENTPERSQFT</th>\n",
       "      <th>PROPERTY_RENTPERSQFTALLUNITS</th>\n",
       "    </tr>\n",
       "    <tr>\n",
       "      <th>MARKET_NAME</th>\n",
       "      <th>SUBMARKET_NAME</th>\n",
       "      <th></th>\n",
       "      <th></th>\n",
       "      <th></th>\n",
       "      <th></th>\n",
       "      <th></th>\n",
       "      <th></th>\n",
       "      <th></th>\n",
       "      <th></th>\n",
       "      <th></th>\n",
       "      <th></th>\n",
       "      <th></th>\n",
       "      <th></th>\n",
       "      <th></th>\n",
       "      <th></th>\n",
       "      <th></th>\n",
       "    </tr>\n",
       "  </thead>\n",
       "  <tbody>\n",
       "    <tr>\n",
       "      <th rowspan=\"5\" valign=\"top\">Albuquerque</th>\n",
       "      <th>Albuquerque - Academy</th>\n",
       "      <td>58.0</td>\n",
       "      <td>87109.281250</td>\n",
       "      <td>35.143642</td>\n",
       "      <td>-106.575040</td>\n",
       "      <td>5.057994e+09</td>\n",
       "      <td>194.125000</td>\n",
       "      <td>162005.625000</td>\n",
       "      <td>7.363437</td>\n",
       "      <td>0.000000</td>\n",
       "      <td>NaN</td>\n",
       "      <td>NaN</td>\n",
       "      <td>94.412500</td>\n",
       "      <td>1140.218750</td>\n",
       "      <td>0.008955</td>\n",
       "      <td>1.401550</td>\n",
       "    </tr>\n",
       "    <tr>\n",
       "      <th>Albuquerque - Central</th>\n",
       "      <td>58.0</td>\n",
       "      <td>87102.571429</td>\n",
       "      <td>35.089235</td>\n",
       "      <td>-106.653721</td>\n",
       "      <td>5.054357e+09</td>\n",
       "      <td>125.357143</td>\n",
       "      <td>80684.071429</td>\n",
       "      <td>3.495714</td>\n",
       "      <td>0.071429</td>\n",
       "      <td>0.250000</td>\n",
       "      <td>NaN</td>\n",
       "      <td>94.800000</td>\n",
       "      <td>1044.500000</td>\n",
       "      <td>0.018132</td>\n",
       "      <td>1.525940</td>\n",
       "    </tr>\n",
       "    <tr>\n",
       "      <th>Albuquerque - Chelwood Park</th>\n",
       "      <td>58.0</td>\n",
       "      <td>87115.666667</td>\n",
       "      <td>35.092095</td>\n",
       "      <td>-106.497736</td>\n",
       "      <td>5.052937e+09</td>\n",
       "      <td>116.333333</td>\n",
       "      <td>88874.666667</td>\n",
       "      <td>4.481667</td>\n",
       "      <td>0.000000</td>\n",
       "      <td>0.000000</td>\n",
       "      <td>NaN</td>\n",
       "      <td>96.366667</td>\n",
       "      <td>989.666667</td>\n",
       "      <td>0.013617</td>\n",
       "      <td>1.311828</td>\n",
       "    </tr>\n",
       "    <tr>\n",
       "      <th>Albuquerque - International District</th>\n",
       "      <td>58.0</td>\n",
       "      <td>87108.000000</td>\n",
       "      <td>35.063999</td>\n",
       "      <td>-106.577158</td>\n",
       "      <td>5.053352e+09</td>\n",
       "      <td>166.666667</td>\n",
       "      <td>107529.400000</td>\n",
       "      <td>5.332000</td>\n",
       "      <td>0.000000</td>\n",
       "      <td>0.333333</td>\n",
       "      <td>NaN</td>\n",
       "      <td>84.960000</td>\n",
       "      <td>800.933333</td>\n",
       "      <td>0.011503</td>\n",
       "      <td>1.169158</td>\n",
       "    </tr>\n",
       "    <tr>\n",
       "      <th>Albuquerque - La Cuesta</th>\n",
       "      <td>58.0</td>\n",
       "      <td>87115.500000</td>\n",
       "      <td>35.092515</td>\n",
       "      <td>-106.511713</td>\n",
       "      <td>5.300077e+09</td>\n",
       "      <td>179.916667</td>\n",
       "      <td>140929.000000</td>\n",
       "      <td>6.584167</td>\n",
       "      <td>0.000000</td>\n",
       "      <td>1.000000</td>\n",
       "      <td>NaN</td>\n",
       "      <td>96.408333</td>\n",
       "      <td>902.000000</td>\n",
       "      <td>0.012389</td>\n",
       "      <td>1.265916</td>\n",
       "    </tr>\n",
       "    <tr>\n",
       "      <th>...</th>\n",
       "      <th>...</th>\n",
       "      <td>...</td>\n",
       "      <td>...</td>\n",
       "      <td>...</td>\n",
       "      <td>...</td>\n",
       "      <td>...</td>\n",
       "      <td>...</td>\n",
       "      <td>...</td>\n",
       "      <td>...</td>\n",
       "      <td>...</td>\n",
       "      <td>...</td>\n",
       "      <td>...</td>\n",
       "      <td>...</td>\n",
       "      <td>...</td>\n",
       "      <td>...</td>\n",
       "      <td>...</td>\n",
       "    </tr>\n",
       "    <tr>\n",
       "      <th rowspan=\"5\" valign=\"top\">Wyoming</th>\n",
       "      <th>Park</th>\n",
       "      <td>167.0</td>\n",
       "      <td>82435.000000</td>\n",
       "      <td>44.753408</td>\n",
       "      <td>-108.761906</td>\n",
       "      <td>3.077545e+09</td>\n",
       "      <td>52.000000</td>\n",
       "      <td>26040.000000</td>\n",
       "      <td>3.670000</td>\n",
       "      <td>0.000000</td>\n",
       "      <td>NaN</td>\n",
       "      <td>NaN</td>\n",
       "      <td>NaN</td>\n",
       "      <td>688.000000</td>\n",
       "      <td>0.026421</td>\n",
       "      <td>1.373886</td>\n",
       "    </tr>\n",
       "    <tr>\n",
       "      <th>Rock Springs</th>\n",
       "      <td>167.0</td>\n",
       "      <td>82901.000000</td>\n",
       "      <td>41.590824</td>\n",
       "      <td>-109.244062</td>\n",
       "      <td>3.074825e+09</td>\n",
       "      <td>215.000000</td>\n",
       "      <td>181057.400000</td>\n",
       "      <td>11.352000</td>\n",
       "      <td>0.000000</td>\n",
       "      <td>NaN</td>\n",
       "      <td>NaN</td>\n",
       "      <td>NaN</td>\n",
       "      <td>752.800000</td>\n",
       "      <td>0.006310</td>\n",
       "      <td>0.904747</td>\n",
       "    </tr>\n",
       "    <tr>\n",
       "      <th>Teton</th>\n",
       "      <td>167.0</td>\n",
       "      <td>83085.400000</td>\n",
       "      <td>43.523346</td>\n",
       "      <td>-110.855433</td>\n",
       "      <td>2.875505e+09</td>\n",
       "      <td>128.000000</td>\n",
       "      <td>93916.600000</td>\n",
       "      <td>9.106000</td>\n",
       "      <td>0.000000</td>\n",
       "      <td>NaN</td>\n",
       "      <td>NaN</td>\n",
       "      <td>NaN</td>\n",
       "      <td>2001.400000</td>\n",
       "      <td>0.030260</td>\n",
       "      <td>3.146230</td>\n",
       "    </tr>\n",
       "    <tr>\n",
       "      <th>Wyoming - North</th>\n",
       "      <td>167.0</td>\n",
       "      <td>82801.000000</td>\n",
       "      <td>44.805027</td>\n",
       "      <td>-106.983660</td>\n",
       "      <td>3.076727e+09</td>\n",
       "      <td>120.000000</td>\n",
       "      <td>79470.000000</td>\n",
       "      <td>7.890000</td>\n",
       "      <td>0.000000</td>\n",
       "      <td>NaN</td>\n",
       "      <td>NaN</td>\n",
       "      <td>NaN</td>\n",
       "      <td>611.000000</td>\n",
       "      <td>0.007688</td>\n",
       "      <td>0.922612</td>\n",
       "    </tr>\n",
       "    <tr>\n",
       "      <th>Wyoming - West Central</th>\n",
       "      <td>167.0</td>\n",
       "      <td>82520.000000</td>\n",
       "      <td>42.833235</td>\n",
       "      <td>-108.719771</td>\n",
       "      <td>3.073322e+09</td>\n",
       "      <td>56.000000</td>\n",
       "      <td>44400.000000</td>\n",
       "      <td>2.690000</td>\n",
       "      <td>0.000000</td>\n",
       "      <td>NaN</td>\n",
       "      <td>NaN</td>\n",
       "      <td>NaN</td>\n",
       "      <td>860.000000</td>\n",
       "      <td>0.019369</td>\n",
       "      <td>1.084685</td>\n",
       "    </tr>\n",
       "  </tbody>\n",
       "</table>\n",
       "<p>230 rows × 15 columns</p>\n",
       "</div>"
      ],
      "text/plain": [
       "                                                  MARKETID  PROPERTY_ZIPCODE  \\\n",
       "MARKET_NAME SUBMARKET_NAME                                                     \n",
       "Albuquerque Albuquerque - Academy                     58.0      87109.281250   \n",
       "            Albuquerque - Central                     58.0      87102.571429   \n",
       "            Albuquerque - Chelwood Park               58.0      87115.666667   \n",
       "            Albuquerque - International District      58.0      87108.000000   \n",
       "            Albuquerque - La Cuesta                   58.0      87115.500000   \n",
       "...                                                    ...               ...   \n",
       "Wyoming     Park                                     167.0      82435.000000   \n",
       "            Rock Springs                             167.0      82901.000000   \n",
       "            Teton                                    167.0      83085.400000   \n",
       "            Wyoming - North                          167.0      82801.000000   \n",
       "            Wyoming - West Central                   167.0      82520.000000   \n",
       "\n",
       "                                                  PROPERTY_LATITUDE  \\\n",
       "MARKET_NAME SUBMARKET_NAME                                            \n",
       "Albuquerque Albuquerque - Academy                         35.143642   \n",
       "            Albuquerque - Central                         35.089235   \n",
       "            Albuquerque - Chelwood Park                   35.092095   \n",
       "            Albuquerque - International District          35.063999   \n",
       "            Albuquerque - La Cuesta                       35.092515   \n",
       "...                                                             ...   \n",
       "Wyoming     Park                                          44.753408   \n",
       "            Rock Springs                                  41.590824   \n",
       "            Teton                                         43.523346   \n",
       "            Wyoming - North                               44.805027   \n",
       "            Wyoming - West Central                        42.833235   \n",
       "\n",
       "                                                  PROPERTY_LONGITUDE  \\\n",
       "MARKET_NAME SUBMARKET_NAME                                             \n",
       "Albuquerque Albuquerque - Academy                        -106.575040   \n",
       "            Albuquerque - Central                        -106.653721   \n",
       "            Albuquerque - Chelwood Park                  -106.497736   \n",
       "            Albuquerque - International District         -106.577158   \n",
       "            Albuquerque - La Cuesta                      -106.511713   \n",
       "...                                                              ...   \n",
       "Wyoming     Park                                         -108.761906   \n",
       "            Rock Springs                                 -109.244062   \n",
       "            Teton                                        -110.855433   \n",
       "            Wyoming - North                              -106.983660   \n",
       "            Wyoming - West Central                       -108.719771   \n",
       "\n",
       "                                                  PROPERTY_PHONE  \\\n",
       "MARKET_NAME SUBMARKET_NAME                                         \n",
       "Albuquerque Albuquerque - Academy                   5.057994e+09   \n",
       "            Albuquerque - Central                   5.054357e+09   \n",
       "            Albuquerque - Chelwood Park             5.052937e+09   \n",
       "            Albuquerque - International District    5.053352e+09   \n",
       "            Albuquerque - La Cuesta                 5.300077e+09   \n",
       "...                                                          ...   \n",
       "Wyoming     Park                                    3.077545e+09   \n",
       "            Rock Springs                            3.074825e+09   \n",
       "            Teton                                   2.875505e+09   \n",
       "            Wyoming - North                         3.076727e+09   \n",
       "            Wyoming - West Central                  3.073322e+09   \n",
       "\n",
       "                                                  PROPERTY_UNITS  \\\n",
       "MARKET_NAME SUBMARKET_NAME                                         \n",
       "Albuquerque Albuquerque - Academy                     194.125000   \n",
       "            Albuquerque - Central                     125.357143   \n",
       "            Albuquerque - Chelwood Park               116.333333   \n",
       "            Albuquerque - International District      166.666667   \n",
       "            Albuquerque - La Cuesta                   179.916667   \n",
       "...                                                          ...   \n",
       "Wyoming     Park                                       52.000000   \n",
       "            Rock Springs                              215.000000   \n",
       "            Teton                                     128.000000   \n",
       "            Wyoming - North                           120.000000   \n",
       "            Wyoming - West Central                     56.000000   \n",
       "\n",
       "                                                  PROPERTY_SQFT  \\\n",
       "MARKET_NAME SUBMARKET_NAME                                        \n",
       "Albuquerque Albuquerque - Academy                 162005.625000   \n",
       "            Albuquerque - Central                  80684.071429   \n",
       "            Albuquerque - Chelwood Park            88874.666667   \n",
       "            Albuquerque - International District  107529.400000   \n",
       "            Albuquerque - La Cuesta               140929.000000   \n",
       "...                                                         ...   \n",
       "Wyoming     Park                                   26040.000000   \n",
       "            Rock Springs                          181057.400000   \n",
       "            Teton                                  93916.600000   \n",
       "            Wyoming - North                        79470.000000   \n",
       "            Wyoming - West Central                 44400.000000   \n",
       "\n",
       "                                                  PROPERTY_ACRES  \\\n",
       "MARKET_NAME SUBMARKET_NAME                                         \n",
       "Albuquerque Albuquerque - Academy                       7.363437   \n",
       "            Albuquerque - Central                       3.495714   \n",
       "            Albuquerque - Chelwood Park                 4.481667   \n",
       "            Albuquerque - International District        5.332000   \n",
       "            Albuquerque - La Cuesta                     6.584167   \n",
       "...                                                          ...   \n",
       "Wyoming     Park                                        3.670000   \n",
       "            Rock Springs                               11.352000   \n",
       "            Teton                                       9.106000   \n",
       "            Wyoming - North                             7.890000   \n",
       "            Wyoming - West Central                      2.690000   \n",
       "\n",
       "                                                  PROPERTY_MIXEDUSE  \\\n",
       "MARKET_NAME SUBMARKET_NAME                                            \n",
       "Albuquerque Albuquerque - Academy                          0.000000   \n",
       "            Albuquerque - Central                          0.071429   \n",
       "            Albuquerque - Chelwood Park                    0.000000   \n",
       "            Albuquerque - International District           0.000000   \n",
       "            Albuquerque - La Cuesta                        0.000000   \n",
       "...                                                             ...   \n",
       "Wyoming     Park                                           0.000000   \n",
       "            Rock Springs                                   0.000000   \n",
       "            Teton                                          0.000000   \n",
       "            Wyoming - North                                0.000000   \n",
       "            Wyoming - West Central                         0.000000   \n",
       "\n",
       "                                                  PROPERTY_ADAPTIVEREUSE  \\\n",
       "MARKET_NAME SUBMARKET_NAME                                                 \n",
       "Albuquerque Albuquerque - Academy                                    NaN   \n",
       "            Albuquerque - Central                               0.250000   \n",
       "            Albuquerque - Chelwood Park                         0.000000   \n",
       "            Albuquerque - International District                0.333333   \n",
       "            Albuquerque - La Cuesta                             1.000000   \n",
       "...                                                                  ...   \n",
       "Wyoming     Park                                                     NaN   \n",
       "            Rock Springs                                             NaN   \n",
       "            Teton                                                    NaN   \n",
       "            Wyoming - North                                          NaN   \n",
       "            Wyoming - West Central                                   NaN   \n",
       "\n",
       "                                                  PROPERTY_SINGLEFAMILYRENTAL  \\\n",
       "MARKET_NAME SUBMARKET_NAME                                                      \n",
       "Albuquerque Albuquerque - Academy                                         NaN   \n",
       "            Albuquerque - Central                                         NaN   \n",
       "            Albuquerque - Chelwood Park                                   NaN   \n",
       "            Albuquerque - International District                          NaN   \n",
       "            Albuquerque - La Cuesta                                       NaN   \n",
       "...                                                                       ...   \n",
       "Wyoming     Park                                                          NaN   \n",
       "            Rock Springs                                                  NaN   \n",
       "            Teton                                                         NaN   \n",
       "            Wyoming - North                                               NaN   \n",
       "            Wyoming - West Central                                        NaN   \n",
       "\n",
       "                                                  PROPERTY_CURRENT_OCCUPANCY  \\\n",
       "MARKET_NAME SUBMARKET_NAME                                                     \n",
       "Albuquerque Albuquerque - Academy                                  94.412500   \n",
       "            Albuquerque - Central                                  94.800000   \n",
       "            Albuquerque - Chelwood Park                            96.366667   \n",
       "            Albuquerque - International District                   84.960000   \n",
       "            Albuquerque - La Cuesta                                96.408333   \n",
       "...                                                                      ...   \n",
       "Wyoming     Park                                                         NaN   \n",
       "            Rock Springs                                                 NaN   \n",
       "            Teton                                                        NaN   \n",
       "            Wyoming - North                                              NaN   \n",
       "            Wyoming - West Central                                       NaN   \n",
       "\n",
       "                                                  PROPERTY_CURRENT_RENT  \\\n",
       "MARKET_NAME SUBMARKET_NAME                                                \n",
       "Albuquerque Albuquerque - Academy                           1140.218750   \n",
       "            Albuquerque - Central                           1044.500000   \n",
       "            Albuquerque - Chelwood Park                      989.666667   \n",
       "            Albuquerque - International District             800.933333   \n",
       "            Albuquerque - La Cuesta                          902.000000   \n",
       "...                                                                 ...   \n",
       "Wyoming     Park                                             688.000000   \n",
       "            Rock Springs                                     752.800000   \n",
       "            Teton                                           2001.400000   \n",
       "            Wyoming - North                                  611.000000   \n",
       "            Wyoming - West Central                           860.000000   \n",
       "\n",
       "                                                  PROPERTY_RENTPERSQFT  \\\n",
       "MARKET_NAME SUBMARKET_NAME                                               \n",
       "Albuquerque Albuquerque - Academy                             0.008955   \n",
       "            Albuquerque - Central                             0.018132   \n",
       "            Albuquerque - Chelwood Park                       0.013617   \n",
       "            Albuquerque - International District              0.011503   \n",
       "            Albuquerque - La Cuesta                           0.012389   \n",
       "...                                                                ...   \n",
       "Wyoming     Park                                              0.026421   \n",
       "            Rock Springs                                      0.006310   \n",
       "            Teton                                             0.030260   \n",
       "            Wyoming - North                                   0.007688   \n",
       "            Wyoming - West Central                            0.019369   \n",
       "\n",
       "                                                  PROPERTY_RENTPERSQFTALLUNITS  \n",
       "MARKET_NAME SUBMARKET_NAME                                                      \n",
       "Albuquerque Albuquerque - Academy                                     1.401550  \n",
       "            Albuquerque - Central                                     1.525940  \n",
       "            Albuquerque - Chelwood Park                               1.311828  \n",
       "            Albuquerque - International District                      1.169158  \n",
       "            Albuquerque - La Cuesta                                   1.265916  \n",
       "...                                                                        ...  \n",
       "Wyoming     Park                                                      1.373886  \n",
       "            Rock Springs                                              0.904747  \n",
       "            Teton                                                     3.146230  \n",
       "            Wyoming - North                                           0.922612  \n",
       "            Wyoming - West Central                                    1.084685  \n",
       "\n",
       "[230 rows x 15 columns]"
      ]
     },
     "execution_count": 12,
     "metadata": {},
     "output_type": "execute_result"
    }
   ],
   "source": [
    "filter2.groupby(['MARKET_NAME','SUBMARKET_NAME']).mean()"
   ]
  },
  {
   "cell_type": "markdown",
   "metadata": {},
   "source": [
    "## Filter 3: Removing properties with no SQFT information"
   ]
  },
  {
   "cell_type": "code",
   "execution_count": 13,
   "metadata": {},
   "outputs": [],
   "source": [
    "filter3 = filter2[filter2.PROPERTY_SQFT > 0]"
   ]
  },
  {
   "cell_type": "code",
   "execution_count": 14,
   "metadata": {},
   "outputs": [
    {
     "data": {
      "text/plain": [
       "(4954, 39)"
      ]
     },
     "execution_count": 14,
     "metadata": {},
     "output_type": "execute_result"
    }
   ],
   "source": [
    "filter3.shape"
   ]
  },
  {
   "cell_type": "markdown",
   "metadata": {},
   "source": [
    "## Filter 4: Removing Student, Affordable, Military, Age Restricted Housing"
   ]
  },
  {
   "cell_type": "code",
   "execution_count": 15,
   "metadata": {},
   "outputs": [],
   "source": [
    "filter4 = filter3[(filter3.PROPERTY_STUDENTHOUSING == 'N') & (filter3.PROPERTY_AFFORDABLEHOUSING == 'N') & (filter3.PROPERTY_MILITARYHOUSING == 'N') & (filter3.PROPERTY_AGERESTRICTED == 'N')]\n"
   ]
  },
  {
   "cell_type": "code",
   "execution_count": 16,
   "metadata": {},
   "outputs": [
    {
     "data": {
      "text/plain": [
       "(2677, 39)"
      ]
     },
     "execution_count": 16,
     "metadata": {},
     "output_type": "execute_result"
    }
   ],
   "source": [
    "filter4.shape"
   ]
  },
  {
   "cell_type": "markdown",
   "metadata": {},
   "source": [
    "## Filter 5: Removing Property with no Submarket"
   ]
  },
  {
   "cell_type": "code",
   "execution_count": 17,
   "metadata": {},
   "outputs": [],
   "source": [
    "filter5 = filter4.dropna(subset = ['SUBMARKET_NAME'])"
   ]
  },
  {
   "cell_type": "code",
   "execution_count": 18,
   "metadata": {},
   "outputs": [
    {
     "data": {
      "text/plain": [
       "(2676, 39)"
      ]
     },
     "execution_count": 18,
     "metadata": {},
     "output_type": "execute_result"
    }
   ],
   "source": [
    "filter5.shape"
   ]
  },
  {
   "cell_type": "code",
   "execution_count": 19,
   "metadata": {},
   "outputs": [
    {
     "name": "stderr",
     "output_type": "stream",
     "text": [
      "<ipython-input-19-c0a6ceaa8555>:3: SettingWithCopyWarning: \n",
      "A value is trying to be set on a copy of a slice from a DataFrame.\n",
      "Try using .loc[row_indexer,col_indexer] = value instead\n",
      "\n",
      "See the caveats in the documentation: https://pandas.pydata.org/pandas-docs/stable/user_guide/indexing.html#returning-a-view-versus-a-copy\n",
      "  filter5['mean_submarket'] = filter5['SUBMARKET_NAME'].map(mean_submarket_dict)\n"
     ]
    }
   ],
   "source": [
    "mean_submarket = filter5.groupby(['SUBMARKET_NAME']).PROPERTY_RENTPERSQFTALLUNITS.mean()\n",
    "mean_submarket_dict = mean_submarket.to_dict()\n",
    "filter5['mean_submarket'] = filter5['SUBMARKET_NAME'].map(mean_submarket_dict)\n"
   ]
  },
  {
   "cell_type": "code",
   "execution_count": 20,
   "metadata": {},
   "outputs": [
    {
     "name": "stderr",
     "output_type": "stream",
     "text": [
      "<ipython-input-20-9ad76378064d>:3: SettingWithCopyWarning: \n",
      "A value is trying to be set on a copy of a slice from a DataFrame.\n",
      "Try using .loc[row_indexer,col_indexer] = value instead\n",
      "\n",
      "See the caveats in the documentation: https://pandas.pydata.org/pandas-docs/stable/user_guide/indexing.html#returning-a-view-versus-a-copy\n",
      "  filter5['min_submarket'] = filter5['SUBMARKET_NAME'].map(min_submarket_dict)\n"
     ]
    }
   ],
   "source": [
    "min_submarket = filter5.groupby(['SUBMARKET_NAME']).PROPERTY_RENTPERSQFTALLUNITS.min()\n",
    "min_submarket_dict = min_submarket.to_dict()\n",
    "filter5['min_submarket'] = filter5['SUBMARKET_NAME'].map(min_submarket_dict)"
   ]
  },
  {
   "cell_type": "code",
   "execution_count": 21,
   "metadata": {},
   "outputs": [
    {
     "name": "stderr",
     "output_type": "stream",
     "text": [
      "<ipython-input-21-c07110e66468>:3: SettingWithCopyWarning: \n",
      "A value is trying to be set on a copy of a slice from a DataFrame.\n",
      "Try using .loc[row_indexer,col_indexer] = value instead\n",
      "\n",
      "See the caveats in the documentation: https://pandas.pydata.org/pandas-docs/stable/user_guide/indexing.html#returning-a-view-versus-a-copy\n",
      "  filter5['max_submarket'] = filter5['SUBMARKET_NAME'].map(max_submarket_dict)\n"
     ]
    }
   ],
   "source": [
    "max_submarket = filter5.groupby(['SUBMARKET_NAME']).PROPERTY_RENTPERSQFTALLUNITS.max()\n",
    "max_submarket_dict = max_submarket.to_dict()\n",
    "filter5['max_submarket'] = filter5['SUBMARKET_NAME'].map(max_submarket_dict)\n"
   ]
  },
  {
   "cell_type": "code",
   "execution_count": 22,
   "metadata": {},
   "outputs": [
    {
     "name": "stderr",
     "output_type": "stream",
     "text": [
      "<ipython-input-22-7ddbc10c556d>:3: SettingWithCopyWarning: \n",
      "A value is trying to be set on a copy of a slice from a DataFrame.\n",
      "Try using .loc[row_indexer,col_indexer] = value instead\n",
      "\n",
      "See the caveats in the documentation: https://pandas.pydata.org/pandas-docs/stable/user_guide/indexing.html#returning-a-view-versus-a-copy\n",
      "  filter5['mean_market'] = filter5['MARKET_NAME'].map(mean_market_dict)\n"
     ]
    }
   ],
   "source": [
    "mean_market = filter5.groupby(['MARKET_NAME']).PROPERTY_RENTPERSQFTALLUNITS.mean()\n",
    "mean_market_dict = mean_market.to_dict()\n",
    "filter5['mean_market'] = filter5['MARKET_NAME'].map(mean_market_dict)"
   ]
  },
  {
   "cell_type": "code",
   "execution_count": 31,
   "metadata": {},
   "outputs": [
    {
     "name": "stderr",
     "output_type": "stream",
     "text": [
      "<ipython-input-31-1441601ffac4>:3: SettingWithCopyWarning: \n",
      "A value is trying to be set on a copy of a slice from a DataFrame.\n",
      "Try using .loc[row_indexer,col_indexer] = value instead\n",
      "\n",
      "See the caveats in the documentation: https://pandas.pydata.org/pandas-docs/stable/user_guide/indexing.html#returning-a-view-versus-a-copy\n",
      "  filter5['min_market'] = filter5['MARKET_NAME'].map(min_market_dict)\n"
     ]
    }
   ],
   "source": [
    "min_market = filter5.groupby(['MARKET_NAME']).PROPERTY_RENTPERSQFTALLUNITS.min()\n",
    "min_market_dict = min_market.to_dict()\n",
    "filter5['min_market'] = filter5['MARKET_NAME'].map(min_market_dict)"
   ]
  },
  {
   "cell_type": "code",
   "execution_count": 32,
   "metadata": {},
   "outputs": [
    {
     "name": "stderr",
     "output_type": "stream",
     "text": [
      "<ipython-input-32-95ad7e0cfda0>:3: SettingWithCopyWarning: \n",
      "A value is trying to be set on a copy of a slice from a DataFrame.\n",
      "Try using .loc[row_indexer,col_indexer] = value instead\n",
      "\n",
      "See the caveats in the documentation: https://pandas.pydata.org/pandas-docs/stable/user_guide/indexing.html#returning-a-view-versus-a-copy\n",
      "  filter5['max_market'] = filter5['MARKET_NAME'].map(max_market_dict)\n"
     ]
    }
   ],
   "source": [
    "max_market = filter5.groupby(['MARKET_NAME']).PROPERTY_RENTPERSQFTALLUNITS.max()\n",
    "max_market_dict = max_market.to_dict()\n",
    "filter5['max_market'] = filter5['MARKET_NAME'].map(max_market_dict)"
   ]
  },
  {
   "cell_type": "code",
   "execution_count": 33,
   "metadata": {},
   "outputs": [
    {
     "data": {
      "text/plain": [
       "(2676, 45)"
      ]
     },
     "execution_count": 33,
     "metadata": {},
     "output_type": "execute_result"
    }
   ],
   "source": [
    "filter5.shape"
   ]
  },
  {
   "cell_type": "code",
   "execution_count": 34,
   "metadata": {},
   "outputs": [
    {
     "data": {
      "text/plain": [
       "Index(['PROPERTY_ID', 'MARKETID', 'MARKET_NAME', 'SUBMARKET_CODE',\n",
       "       'SUBMARKET_NAME', 'COUNTY_NAME', 'PROPERTY_NAME', 'PROPERTY_PRIORNAMES',\n",
       "       'PROPERTY_ADDRESS', 'PROPERTY_CITY', 'PROPERTY_STATE',\n",
       "       'PROPERTY_ZIPCODE', 'PROPERTY_LATITUDE', 'PROPERTY_LONGITUDE',\n",
       "       'PROPERTY_PHONE', 'PROPERTY_UNITS', 'PROPERTY_SQFT', 'PROPERTY_ACRES',\n",
       "       'PROPERTY_IMPRATING', 'PROPERTY_LOCRATING', 'PROPERTY_STATUS',\n",
       "       'PROPERTY_DATE_PLANNED', 'PROPERTY_DATE_UNDERCONSTRUCTION',\n",
       "       'PROPERTY_DATE_RENTUP', 'PROPERTY_DATECOMPLETED', 'PROPERTY_MIXEDUSE',\n",
       "       'PROPERTY_MIXEDUSE_NOTES', 'PROPERTY_STUDENTHOUSING',\n",
       "       'PROPERTY_AFFORDABLEHOUSING', 'PROPERTY_MILITARYHOUSING',\n",
       "       'PROPERTY_AGERESTRICTED', 'PROPERTY_FRACTUREDCONDO',\n",
       "       'PROPERTY_ADAPTIVEREUSE', 'PROPERTY_SINGLEFAMILYRENTAL',\n",
       "       'PROPERTY_CURRENT_OCCUPANCY', 'PROPERTY_CURRENT_RENT',\n",
       "       'PROPERTY_MATRIX_URL', 'PROPERTY_RENTPERSQFT',\n",
       "       'PROPERTY_RENTPERSQFTALLUNITS', 'mean_submarket', 'min_submarket',\n",
       "       'max_submarket', 'mean_market', 'max_market', 'min_market'],\n",
       "      dtype='object')"
      ]
     },
     "execution_count": 34,
     "metadata": {},
     "output_type": "execute_result"
    }
   ],
   "source": [
    "filter5.columns"
   ]
  },
  {
   "cell_type": "code",
   "execution_count": 35,
   "metadata": {},
   "outputs": [],
   "source": [
    "filter5 = filter5.loc[:,['PROPERTY_ID', 'MARKETID', 'MARKET_NAME', 'SUBMARKET_CODE', 'SUBMARKET_NAME', 'COUNTY_NAME', 'PROPERTY_NAME', 'PROPERTY_PRIORNAMES','PROPERTY_ADDRESS', 'PROPERTY_CITY', 'PROPERTY_STATE','PROPERTY_ZIPCODE', 'PROPERTY_LATITUDE', 'PROPERTY_LONGITUDE', 'PROPERTY_UNITS', 'PROPERTY_SQFT', 'PROPERTY_ACRES','PROPERTY_IMPRATING', 'PROPERTY_LOCRATING', 'PROPERTY_DATECOMPLETED','PROPERTY_CURRENT_OCCUPANCY', 'PROPERTY_CURRENT_RENT','PROPERTY_RENTPERSQFT','PROPERTY_RENTPERSQFTALLUNITS', 'mean_submarket', 'min_submarket','max_submarket', 'mean_market', 'min_market', 'max_market']]"
   ]
  },
  {
   "cell_type": "markdown",
   "metadata": {},
   "source": [
    "## Filter 6: Removing Property with missing IMP/LOC rating"
   ]
  },
  {
   "cell_type": "code",
   "execution_count": 36,
   "metadata": {},
   "outputs": [
    {
     "data": {
      "text/plain": [
       "1"
      ]
     },
     "execution_count": 36,
     "metadata": {},
     "output_type": "execute_result"
    }
   ],
   "source": [
    "filter5['PROPERTY_IMPRATING'].isnull().sum()\n",
    "filter5['PROPERTY_LOCRATING'].isnull().sum()"
   ]
  },
  {
   "cell_type": "code",
   "execution_count": 37,
   "metadata": {},
   "outputs": [],
   "source": [
    "filter5['PROPERTY_IMPRATING'].replace('', np.nan, inplace=True)\n",
    "filter5['PROPERTY_LOCRATING'].replace('', np.nan, inplace=True)"
   ]
  },
  {
   "cell_type": "code",
   "execution_count": 38,
   "metadata": {},
   "outputs": [],
   "source": [
    "filter6 = filter5.dropna(subset=['PROPERTY_IMPRATING','PROPERTY_LOCRATING'])"
   ]
  },
  {
   "cell_type": "code",
   "execution_count": 39,
   "metadata": {},
   "outputs": [],
   "source": [
    "final_data = filter6"
   ]
  },
  {
   "cell_type": "code",
   "execution_count": 40,
   "metadata": {},
   "outputs": [
    {
     "data": {
      "text/plain": [
       "(2675, 30)"
      ]
     },
     "execution_count": 40,
     "metadata": {},
     "output_type": "execute_result"
    }
   ],
   "source": [
    "final_data.shape"
   ]
  },
  {
   "cell_type": "code",
   "execution_count": 37,
   "metadata": {},
   "outputs": [],
   "source": [
    "final_data = final_data.reset_index(drop=True)"
   ]
  },
  {
   "cell_type": "code",
   "execution_count": 41,
   "metadata": {},
   "outputs": [],
   "source": [
    "final_data.to_excel('Western_FilterData.xlsx')"
   ]
  },
  {
   "cell_type": "code",
   "execution_count": null,
   "metadata": {},
   "outputs": [],
   "source": []
  }
 ],
 "metadata": {
  "interpreter": {
   "hash": "c2db4c34adccbb055b8ce3d34ec4c4f85699aca77be4e68353935c121c454c3b"
  },
  "kernelspec": {
   "display_name": "Python 3.8.8 64-bit ('base': conda)",
   "language": "python",
   "name": "python3"
  },
  "language_info": {
   "codemirror_mode": {
    "name": "ipython",
    "version": 3
   },
   "file_extension": ".py",
   "mimetype": "text/x-python",
   "name": "python",
   "nbconvert_exporter": "python",
   "pygments_lexer": "ipython3",
   "version": "3.8.8"
  },
  "orig_nbformat": 4
 },
 "nbformat": 4,
 "nbformat_minor": 2
}
