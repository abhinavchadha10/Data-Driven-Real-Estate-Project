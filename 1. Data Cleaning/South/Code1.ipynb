{
 "cells": [
  {
   "cell_type": "code",
   "execution_count": 3,
   "metadata": {},
   "outputs": [],
   "source": [
    "import pandas as pd\n",
    "import numpy as np\n",
    "import statistics"
   ]
  },
  {
   "cell_type": "code",
   "execution_count": 4,
   "metadata": {},
   "outputs": [
    {
     "data": {
      "text/plain": [
       "(5751, 37)"
      ]
     },
     "execution_count": 4,
     "metadata": {},
     "output_type": "execute_result"
    }
   ],
   "source": [
    "data1 = pd.read_excel('SouthPropertyData.xlsx')\n",
    "data1.head()\n",
    "data1.shape"
   ]
  },
  {
   "cell_type": "markdown",
   "metadata": {},
   "source": [
    "## FIlter 1: Only selecting COmpleted Properties"
   ]
  },
  {
   "cell_type": "code",
   "execution_count": 5,
   "metadata": {},
   "outputs": [
    {
     "data": {
      "text/plain": [
       "(4821, 37)"
      ]
     },
     "execution_count": 5,
     "metadata": {},
     "output_type": "execute_result"
    }
   ],
   "source": [
    "filter1 = data1[data1.PROPERTY_STATUS == \"Completed\"]\n",
    "filter1.shape"
   ]
  },
  {
   "cell_type": "code",
   "execution_count": 6,
   "metadata": {},
   "outputs": [
    {
     "name": "stderr",
     "output_type": "stream",
     "text": [
      "<ipython-input-6-c9bb1a89a8ac>:1: SettingWithCopyWarning: \n",
      "A value is trying to be set on a copy of a slice from a DataFrame.\n",
      "Try using .loc[row_indexer,col_indexer] = value instead\n",
      "\n",
      "See the caveats in the documentation: https://pandas.pydata.org/pandas-docs/stable/user_guide/indexing.html#returning-a-view-versus-a-copy\n",
      "  filter1['PROPERTY_RENTPERSQFT'] = filter1.PROPERTY_CURRENT_RENT/filter1.PROPERTY_SQFT\n"
     ]
    }
   ],
   "source": [
    "filter1['PROPERTY_RENTPERSQFT'] = filter1.PROPERTY_CURRENT_RENT/filter1.PROPERTY_SQFT"
   ]
  },
  {
   "cell_type": "code",
   "execution_count": 7,
   "metadata": {},
   "outputs": [
    {
     "data": {
      "text/html": [
       "<div>\n",
       "<style scoped>\n",
       "    .dataframe tbody tr th:only-of-type {\n",
       "        vertical-align: middle;\n",
       "    }\n",
       "\n",
       "    .dataframe tbody tr th {\n",
       "        vertical-align: top;\n",
       "    }\n",
       "\n",
       "    .dataframe thead th {\n",
       "        text-align: right;\n",
       "    }\n",
       "</style>\n",
       "<table border=\"1\" class=\"dataframe\">\n",
       "  <thead>\n",
       "    <tr style=\"text-align: right;\">\n",
       "      <th></th>\n",
       "      <th>PROPERTY_ID</th>\n",
       "      <th>MARKETID</th>\n",
       "      <th>MARKET_NAME</th>\n",
       "      <th>SUBMARKET_CODE</th>\n",
       "      <th>SUBMARKET_NAME</th>\n",
       "      <th>COUNTY_NAME</th>\n",
       "      <th>PROPERTY_NAME</th>\n",
       "      <th>PROPERTY_PRIORNAMES</th>\n",
       "      <th>PROPERTY_ADDRESS</th>\n",
       "      <th>PROPERTY_CITY</th>\n",
       "      <th>...</th>\n",
       "      <th>PROPERTY_AFFORDABLEHOUSING</th>\n",
       "      <th>PROPERTY_MILITARYHOUSING</th>\n",
       "      <th>PROPERTY_AGERESTRICTED</th>\n",
       "      <th>PROPERTY_FRACTUREDCONDO</th>\n",
       "      <th>PROPERTY_ADAPTIVEREUSE</th>\n",
       "      <th>PROPERTY_SINGLEFAMILYRENTAL</th>\n",
       "      <th>PROPERTY_CURRENT_OCCUPANCY</th>\n",
       "      <th>PROPERTY_CURRENT_RENT</th>\n",
       "      <th>PROPERTY_MATRIX_URL</th>\n",
       "      <th>PROPERTY_RENTPERSQFT</th>\n",
       "    </tr>\n",
       "  </thead>\n",
       "  <tbody>\n",
       "    <tr>\n",
       "      <th>0</th>\n",
       "      <td>54_106</td>\n",
       "      <td>54</td>\n",
       "      <td>Little Rock</td>\n",
       "      <td>17.0</td>\n",
       "      <td>Jacksonville</td>\n",
       "      <td>Pulaski</td>\n",
       "      <td>Park Place of Jacksonville</td>\n",
       "      <td>William Manor</td>\n",
       "      <td>700 Poplar Street</td>\n",
       "      <td>Jacksonville</td>\n",
       "      <td>...</td>\n",
       "      <td>N</td>\n",
       "      <td>N</td>\n",
       "      <td>N</td>\n",
       "      <td>NaN</td>\n",
       "      <td>NaN</td>\n",
       "      <td>NaN</td>\n",
       "      <td>47.1</td>\n",
       "      <td>645.0</td>\n",
       "      <td>matrix.pi-ei.com/PropertyDetail/All?MarketID=5...</td>\n",
       "      <td>0.013293</td>\n",
       "    </tr>\n",
       "    <tr>\n",
       "      <th>3</th>\n",
       "      <td>54_1314693</td>\n",
       "      <td>54</td>\n",
       "      <td>Little Rock</td>\n",
       "      <td>10.0</td>\n",
       "      <td>John Barrow</td>\n",
       "      <td>Pulaski</td>\n",
       "      <td>Ascent at Aldersgate</td>\n",
       "      <td>NaN</td>\n",
       "      <td>1310 Aldersgate Road</td>\n",
       "      <td>Little Rock</td>\n",
       "      <td>...</td>\n",
       "      <td>N</td>\n",
       "      <td>N</td>\n",
       "      <td>N</td>\n",
       "      <td>NaN</td>\n",
       "      <td>NaN</td>\n",
       "      <td>NaN</td>\n",
       "      <td>86.0</td>\n",
       "      <td>1334.0</td>\n",
       "      <td>matrix.pi-ei.com/PropertyDetail/All?MarketID=5...</td>\n",
       "      <td>0.024244</td>\n",
       "    </tr>\n",
       "    <tr>\n",
       "      <th>6</th>\n",
       "      <td>54_146</td>\n",
       "      <td>54</td>\n",
       "      <td>Little Rock</td>\n",
       "      <td>21.0</td>\n",
       "      <td>Saline</td>\n",
       "      <td>Saline</td>\n",
       "      <td>Country Oaks</td>\n",
       "      <td>NaN</td>\n",
       "      <td>1309 Country Oaks Drive</td>\n",
       "      <td>Benton</td>\n",
       "      <td>...</td>\n",
       "      <td>N</td>\n",
       "      <td>N</td>\n",
       "      <td>N</td>\n",
       "      <td>NaN</td>\n",
       "      <td>NaN</td>\n",
       "      <td>NaN</td>\n",
       "      <td>100.0</td>\n",
       "      <td>726.0</td>\n",
       "      <td>matrix.pi-ei.com/PropertyDetail/All?MarketID=5...</td>\n",
       "      <td>0.011957</td>\n",
       "    </tr>\n",
       "    <tr>\n",
       "      <th>7</th>\n",
       "      <td>54_150</td>\n",
       "      <td>54</td>\n",
       "      <td>Little Rock</td>\n",
       "      <td>15.0</td>\n",
       "      <td>North Little Rock</td>\n",
       "      <td>Pulaski</td>\n",
       "      <td>Christopher Homes of North Little Rock</td>\n",
       "      <td>NaN</td>\n",
       "      <td>656 Donovan Briley Drive</td>\n",
       "      <td>North Little Rock</td>\n",
       "      <td>...</td>\n",
       "      <td>A</td>\n",
       "      <td>N</td>\n",
       "      <td>A</td>\n",
       "      <td>NaN</td>\n",
       "      <td>NaN</td>\n",
       "      <td>NaN</td>\n",
       "      <td>NaN</td>\n",
       "      <td>NaN</td>\n",
       "      <td>matrix.pi-ei.com/PropertyDetail/All?MarketID=5...</td>\n",
       "      <td>NaN</td>\n",
       "    </tr>\n",
       "    <tr>\n",
       "      <th>8</th>\n",
       "      <td>54_154</td>\n",
       "      <td>54</td>\n",
       "      <td>Little Rock</td>\n",
       "      <td>26.0</td>\n",
       "      <td>Conway</td>\n",
       "      <td>Faulkner</td>\n",
       "      <td>East Oakwood</td>\n",
       "      <td>NaN</td>\n",
       "      <td>1651 East Hairston Avenue</td>\n",
       "      <td>Conway</td>\n",
       "      <td>...</td>\n",
       "      <td>A</td>\n",
       "      <td>N</td>\n",
       "      <td>A</td>\n",
       "      <td>NaN</td>\n",
       "      <td>NaN</td>\n",
       "      <td>NaN</td>\n",
       "      <td>NaN</td>\n",
       "      <td>NaN</td>\n",
       "      <td>matrix.pi-ei.com/PropertyDetail/All?MarketID=5...</td>\n",
       "      <td>NaN</td>\n",
       "    </tr>\n",
       "  </tbody>\n",
       "</table>\n",
       "<p>5 rows × 38 columns</p>\n",
       "</div>"
      ],
      "text/plain": [
       "  PROPERTY_ID  MARKETID  MARKET_NAME  SUBMARKET_CODE     SUBMARKET_NAME  \\\n",
       "0      54_106        54  Little Rock            17.0       Jacksonville   \n",
       "3  54_1314693        54  Little Rock            10.0        John Barrow   \n",
       "6      54_146        54  Little Rock            21.0             Saline   \n",
       "7      54_150        54  Little Rock            15.0  North Little Rock   \n",
       "8      54_154        54  Little Rock            26.0             Conway   \n",
       "\n",
       "  COUNTY_NAME                           PROPERTY_NAME PROPERTY_PRIORNAMES  \\\n",
       "0     Pulaski              Park Place of Jacksonville       William Manor   \n",
       "3     Pulaski                    Ascent at Aldersgate                 NaN   \n",
       "6      Saline                            Country Oaks                 NaN   \n",
       "7     Pulaski  Christopher Homes of North Little Rock                 NaN   \n",
       "8    Faulkner                            East Oakwood                 NaN   \n",
       "\n",
       "            PROPERTY_ADDRESS      PROPERTY_CITY  ...  \\\n",
       "0          700 Poplar Street       Jacksonville  ...   \n",
       "3       1310 Aldersgate Road        Little Rock  ...   \n",
       "6    1309 Country Oaks Drive             Benton  ...   \n",
       "7   656 Donovan Briley Drive  North Little Rock  ...   \n",
       "8  1651 East Hairston Avenue             Conway  ...   \n",
       "\n",
       "  PROPERTY_AFFORDABLEHOUSING  PROPERTY_MILITARYHOUSING  \\\n",
       "0                          N                         N   \n",
       "3                          N                         N   \n",
       "6                          N                         N   \n",
       "7                          A                         N   \n",
       "8                          A                         N   \n",
       "\n",
       "   PROPERTY_AGERESTRICTED  PROPERTY_FRACTUREDCONDO  PROPERTY_ADAPTIVEREUSE  \\\n",
       "0                       N                      NaN                     NaN   \n",
       "3                       N                      NaN                     NaN   \n",
       "6                       N                      NaN                     NaN   \n",
       "7                       A                      NaN                     NaN   \n",
       "8                       A                      NaN                     NaN   \n",
       "\n",
       "   PROPERTY_SINGLEFAMILYRENTAL  PROPERTY_CURRENT_OCCUPANCY  \\\n",
       "0                          NaN                        47.1   \n",
       "3                          NaN                        86.0   \n",
       "6                          NaN                       100.0   \n",
       "7                          NaN                         NaN   \n",
       "8                          NaN                         NaN   \n",
       "\n",
       "   PROPERTY_CURRENT_RENT                                PROPERTY_MATRIX_URL  \\\n",
       "0                  645.0  matrix.pi-ei.com/PropertyDetail/All?MarketID=5...   \n",
       "3                 1334.0  matrix.pi-ei.com/PropertyDetail/All?MarketID=5...   \n",
       "6                  726.0  matrix.pi-ei.com/PropertyDetail/All?MarketID=5...   \n",
       "7                    NaN  matrix.pi-ei.com/PropertyDetail/All?MarketID=5...   \n",
       "8                    NaN  matrix.pi-ei.com/PropertyDetail/All?MarketID=5...   \n",
       "\n",
       "  PROPERTY_RENTPERSQFT  \n",
       "0             0.013293  \n",
       "3             0.024244  \n",
       "6             0.011957  \n",
       "7                  NaN  \n",
       "8                  NaN  \n",
       "\n",
       "[5 rows x 38 columns]"
      ]
     },
     "execution_count": 7,
     "metadata": {},
     "output_type": "execute_result"
    }
   ],
   "source": [
    "filter1.head()"
   ]
  },
  {
   "cell_type": "code",
   "execution_count": 8,
   "metadata": {},
   "outputs": [
    {
     "name": "stderr",
     "output_type": "stream",
     "text": [
      "<ipython-input-8-4e663cff939b>:1: SettingWithCopyWarning: \n",
      "A value is trying to be set on a copy of a slice from a DataFrame.\n",
      "Try using .loc[row_indexer,col_indexer] = value instead\n",
      "\n",
      "See the caveats in the documentation: https://pandas.pydata.org/pandas-docs/stable/user_guide/indexing.html#returning-a-view-versus-a-copy\n",
      "  filter1['PROPERTY_RENTPERSQFTALLUNITS'] = filter1['PROPERTY_RENTPERSQFT']*filter1.PROPERTY_UNITS\n"
     ]
    }
   ],
   "source": [
    "filter1['PROPERTY_RENTPERSQFTALLUNITS'] = filter1['PROPERTY_RENTPERSQFT']*filter1.PROPERTY_UNITS"
   ]
  },
  {
   "cell_type": "code",
   "execution_count": 9,
   "metadata": {},
   "outputs": [
    {
     "data": {
      "text/html": [
       "<div>\n",
       "<style scoped>\n",
       "    .dataframe tbody tr th:only-of-type {\n",
       "        vertical-align: middle;\n",
       "    }\n",
       "\n",
       "    .dataframe tbody tr th {\n",
       "        vertical-align: top;\n",
       "    }\n",
       "\n",
       "    .dataframe thead th {\n",
       "        text-align: right;\n",
       "    }\n",
       "</style>\n",
       "<table border=\"1\" class=\"dataframe\">\n",
       "  <thead>\n",
       "    <tr style=\"text-align: right;\">\n",
       "      <th></th>\n",
       "      <th>PROPERTY_ID</th>\n",
       "      <th>MARKETID</th>\n",
       "      <th>MARKET_NAME</th>\n",
       "      <th>SUBMARKET_CODE</th>\n",
       "      <th>SUBMARKET_NAME</th>\n",
       "      <th>COUNTY_NAME</th>\n",
       "      <th>PROPERTY_NAME</th>\n",
       "      <th>PROPERTY_PRIORNAMES</th>\n",
       "      <th>PROPERTY_ADDRESS</th>\n",
       "      <th>PROPERTY_CITY</th>\n",
       "      <th>...</th>\n",
       "      <th>PROPERTY_MILITARYHOUSING</th>\n",
       "      <th>PROPERTY_AGERESTRICTED</th>\n",
       "      <th>PROPERTY_FRACTUREDCONDO</th>\n",
       "      <th>PROPERTY_ADAPTIVEREUSE</th>\n",
       "      <th>PROPERTY_SINGLEFAMILYRENTAL</th>\n",
       "      <th>PROPERTY_CURRENT_OCCUPANCY</th>\n",
       "      <th>PROPERTY_CURRENT_RENT</th>\n",
       "      <th>PROPERTY_MATRIX_URL</th>\n",
       "      <th>PROPERTY_RENTPERSQFT</th>\n",
       "      <th>PROPERTY_RENTPERSQFTALLUNITS</th>\n",
       "    </tr>\n",
       "  </thead>\n",
       "  <tbody>\n",
       "    <tr>\n",
       "      <th>0</th>\n",
       "      <td>54_106</td>\n",
       "      <td>54</td>\n",
       "      <td>Little Rock</td>\n",
       "      <td>17.0</td>\n",
       "      <td>Jacksonville</td>\n",
       "      <td>Pulaski</td>\n",
       "      <td>Park Place of Jacksonville</td>\n",
       "      <td>William Manor</td>\n",
       "      <td>700 Poplar Street</td>\n",
       "      <td>Jacksonville</td>\n",
       "      <td>...</td>\n",
       "      <td>N</td>\n",
       "      <td>N</td>\n",
       "      <td>NaN</td>\n",
       "      <td>NaN</td>\n",
       "      <td>NaN</td>\n",
       "      <td>47.1</td>\n",
       "      <td>645.0</td>\n",
       "      <td>matrix.pi-ei.com/PropertyDetail/All?MarketID=5...</td>\n",
       "      <td>0.013293</td>\n",
       "      <td>0.903957</td>\n",
       "    </tr>\n",
       "    <tr>\n",
       "      <th>3</th>\n",
       "      <td>54_1314693</td>\n",
       "      <td>54</td>\n",
       "      <td>Little Rock</td>\n",
       "      <td>10.0</td>\n",
       "      <td>John Barrow</td>\n",
       "      <td>Pulaski</td>\n",
       "      <td>Ascent at Aldersgate</td>\n",
       "      <td>NaN</td>\n",
       "      <td>1310 Aldersgate Road</td>\n",
       "      <td>Little Rock</td>\n",
       "      <td>...</td>\n",
       "      <td>N</td>\n",
       "      <td>N</td>\n",
       "      <td>NaN</td>\n",
       "      <td>NaN</td>\n",
       "      <td>NaN</td>\n",
       "      <td>86.0</td>\n",
       "      <td>1334.0</td>\n",
       "      <td>matrix.pi-ei.com/PropertyDetail/All?MarketID=5...</td>\n",
       "      <td>0.024244</td>\n",
       "      <td>1.212176</td>\n",
       "    </tr>\n",
       "    <tr>\n",
       "      <th>6</th>\n",
       "      <td>54_146</td>\n",
       "      <td>54</td>\n",
       "      <td>Little Rock</td>\n",
       "      <td>21.0</td>\n",
       "      <td>Saline</td>\n",
       "      <td>Saline</td>\n",
       "      <td>Country Oaks</td>\n",
       "      <td>NaN</td>\n",
       "      <td>1309 Country Oaks Drive</td>\n",
       "      <td>Benton</td>\n",
       "      <td>...</td>\n",
       "      <td>N</td>\n",
       "      <td>N</td>\n",
       "      <td>NaN</td>\n",
       "      <td>NaN</td>\n",
       "      <td>NaN</td>\n",
       "      <td>100.0</td>\n",
       "      <td>726.0</td>\n",
       "      <td>matrix.pi-ei.com/PropertyDetail/All?MarketID=5...</td>\n",
       "      <td>0.011957</td>\n",
       "      <td>0.789130</td>\n",
       "    </tr>\n",
       "    <tr>\n",
       "      <th>7</th>\n",
       "      <td>54_150</td>\n",
       "      <td>54</td>\n",
       "      <td>Little Rock</td>\n",
       "      <td>15.0</td>\n",
       "      <td>North Little Rock</td>\n",
       "      <td>Pulaski</td>\n",
       "      <td>Christopher Homes of North Little Rock</td>\n",
       "      <td>NaN</td>\n",
       "      <td>656 Donovan Briley Drive</td>\n",
       "      <td>North Little Rock</td>\n",
       "      <td>...</td>\n",
       "      <td>N</td>\n",
       "      <td>A</td>\n",
       "      <td>NaN</td>\n",
       "      <td>NaN</td>\n",
       "      <td>NaN</td>\n",
       "      <td>NaN</td>\n",
       "      <td>NaN</td>\n",
       "      <td>matrix.pi-ei.com/PropertyDetail/All?MarketID=5...</td>\n",
       "      <td>NaN</td>\n",
       "      <td>NaN</td>\n",
       "    </tr>\n",
       "    <tr>\n",
       "      <th>8</th>\n",
       "      <td>54_154</td>\n",
       "      <td>54</td>\n",
       "      <td>Little Rock</td>\n",
       "      <td>26.0</td>\n",
       "      <td>Conway</td>\n",
       "      <td>Faulkner</td>\n",
       "      <td>East Oakwood</td>\n",
       "      <td>NaN</td>\n",
       "      <td>1651 East Hairston Avenue</td>\n",
       "      <td>Conway</td>\n",
       "      <td>...</td>\n",
       "      <td>N</td>\n",
       "      <td>A</td>\n",
       "      <td>NaN</td>\n",
       "      <td>NaN</td>\n",
       "      <td>NaN</td>\n",
       "      <td>NaN</td>\n",
       "      <td>NaN</td>\n",
       "      <td>matrix.pi-ei.com/PropertyDetail/All?MarketID=5...</td>\n",
       "      <td>NaN</td>\n",
       "      <td>NaN</td>\n",
       "    </tr>\n",
       "  </tbody>\n",
       "</table>\n",
       "<p>5 rows × 39 columns</p>\n",
       "</div>"
      ],
      "text/plain": [
       "  PROPERTY_ID  MARKETID  MARKET_NAME  SUBMARKET_CODE     SUBMARKET_NAME  \\\n",
       "0      54_106        54  Little Rock            17.0       Jacksonville   \n",
       "3  54_1314693        54  Little Rock            10.0        John Barrow   \n",
       "6      54_146        54  Little Rock            21.0             Saline   \n",
       "7      54_150        54  Little Rock            15.0  North Little Rock   \n",
       "8      54_154        54  Little Rock            26.0             Conway   \n",
       "\n",
       "  COUNTY_NAME                           PROPERTY_NAME PROPERTY_PRIORNAMES  \\\n",
       "0     Pulaski              Park Place of Jacksonville       William Manor   \n",
       "3     Pulaski                    Ascent at Aldersgate                 NaN   \n",
       "6      Saline                            Country Oaks                 NaN   \n",
       "7     Pulaski  Christopher Homes of North Little Rock                 NaN   \n",
       "8    Faulkner                            East Oakwood                 NaN   \n",
       "\n",
       "            PROPERTY_ADDRESS      PROPERTY_CITY  ... PROPERTY_MILITARYHOUSING  \\\n",
       "0          700 Poplar Street       Jacksonville  ...                        N   \n",
       "3       1310 Aldersgate Road        Little Rock  ...                        N   \n",
       "6    1309 Country Oaks Drive             Benton  ...                        N   \n",
       "7   656 Donovan Briley Drive  North Little Rock  ...                        N   \n",
       "8  1651 East Hairston Avenue             Conway  ...                        N   \n",
       "\n",
       "   PROPERTY_AGERESTRICTED  PROPERTY_FRACTUREDCONDO  PROPERTY_ADAPTIVEREUSE  \\\n",
       "0                       N                      NaN                     NaN   \n",
       "3                       N                      NaN                     NaN   \n",
       "6                       N                      NaN                     NaN   \n",
       "7                       A                      NaN                     NaN   \n",
       "8                       A                      NaN                     NaN   \n",
       "\n",
       "   PROPERTY_SINGLEFAMILYRENTAL  PROPERTY_CURRENT_OCCUPANCY  \\\n",
       "0                          NaN                        47.1   \n",
       "3                          NaN                        86.0   \n",
       "6                          NaN                       100.0   \n",
       "7                          NaN                         NaN   \n",
       "8                          NaN                         NaN   \n",
       "\n",
       "   PROPERTY_CURRENT_RENT                                PROPERTY_MATRIX_URL  \\\n",
       "0                  645.0  matrix.pi-ei.com/PropertyDetail/All?MarketID=5...   \n",
       "3                 1334.0  matrix.pi-ei.com/PropertyDetail/All?MarketID=5...   \n",
       "6                  726.0  matrix.pi-ei.com/PropertyDetail/All?MarketID=5...   \n",
       "7                    NaN  matrix.pi-ei.com/PropertyDetail/All?MarketID=5...   \n",
       "8                    NaN  matrix.pi-ei.com/PropertyDetail/All?MarketID=5...   \n",
       "\n",
       "  PROPERTY_RENTPERSQFT PROPERTY_RENTPERSQFTALLUNITS  \n",
       "0             0.013293                     0.903957  \n",
       "3             0.024244                     1.212176  \n",
       "6             0.011957                     0.789130  \n",
       "7                  NaN                          NaN  \n",
       "8                  NaN                          NaN  \n",
       "\n",
       "[5 rows x 39 columns]"
      ]
     },
     "execution_count": 9,
     "metadata": {},
     "output_type": "execute_result"
    }
   ],
   "source": [
    "filter1.head()"
   ]
  },
  {
   "cell_type": "markdown",
   "metadata": {},
   "source": [
    "## Filter 2: Removing Properties with no Rent information"
   ]
  },
  {
   "cell_type": "code",
   "execution_count": 10,
   "metadata": {},
   "outputs": [],
   "source": [
    "filter2 = filter1.dropna(subset = ['PROPERTY_RENTPERSQFTALLUNITS'])"
   ]
  },
  {
   "cell_type": "code",
   "execution_count": 11,
   "metadata": {},
   "outputs": [
    {
     "data": {
      "text/plain": [
       "(3499, 39)"
      ]
     },
     "execution_count": 11,
     "metadata": {},
     "output_type": "execute_result"
    }
   ],
   "source": [
    "filter2.shape"
   ]
  },
  {
   "cell_type": "code",
   "execution_count": 12,
   "metadata": {},
   "outputs": [
    {
     "data": {
      "text/html": [
       "<div>\n",
       "<style scoped>\n",
       "    .dataframe tbody tr th:only-of-type {\n",
       "        vertical-align: middle;\n",
       "    }\n",
       "\n",
       "    .dataframe tbody tr th {\n",
       "        vertical-align: top;\n",
       "    }\n",
       "\n",
       "    .dataframe thead th {\n",
       "        text-align: right;\n",
       "    }\n",
       "</style>\n",
       "<table border=\"1\" class=\"dataframe\">\n",
       "  <thead>\n",
       "    <tr style=\"text-align: right;\">\n",
       "      <th></th>\n",
       "      <th></th>\n",
       "      <th>MARKETID</th>\n",
       "      <th>SUBMARKET_CODE</th>\n",
       "      <th>PROPERTY_ZIPCODE</th>\n",
       "      <th>PROPERTY_LATITUDE</th>\n",
       "      <th>PROPERTY_LONGITUDE</th>\n",
       "      <th>PROPERTY_PHONE</th>\n",
       "      <th>PROPERTY_UNITS</th>\n",
       "      <th>PROPERTY_SQFT</th>\n",
       "      <th>PROPERTY_ACRES</th>\n",
       "      <th>PROPERTY_MIXEDUSE</th>\n",
       "      <th>PROPERTY_ADAPTIVEREUSE</th>\n",
       "      <th>PROPERTY_SINGLEFAMILYRENTAL</th>\n",
       "      <th>PROPERTY_CURRENT_OCCUPANCY</th>\n",
       "      <th>PROPERTY_CURRENT_RENT</th>\n",
       "      <th>PROPERTY_RENTPERSQFT</th>\n",
       "      <th>PROPERTY_RENTPERSQFTALLUNITS</th>\n",
       "    </tr>\n",
       "    <tr>\n",
       "      <th>MARKET_NAME</th>\n",
       "      <th>SUBMARKET_NAME</th>\n",
       "      <th></th>\n",
       "      <th></th>\n",
       "      <th></th>\n",
       "      <th></th>\n",
       "      <th></th>\n",
       "      <th></th>\n",
       "      <th></th>\n",
       "      <th></th>\n",
       "      <th></th>\n",
       "      <th></th>\n",
       "      <th></th>\n",
       "      <th></th>\n",
       "      <th></th>\n",
       "      <th></th>\n",
       "      <th></th>\n",
       "      <th></th>\n",
       "    </tr>\n",
       "  </thead>\n",
       "  <tbody>\n",
       "    <tr>\n",
       "      <th rowspan=\"5\" valign=\"top\">Baton Rouge</th>\n",
       "      <th>Baton Rouge - Downtown</th>\n",
       "      <td>117.0</td>\n",
       "      <td>1.0</td>\n",
       "      <td>70802.000000</td>\n",
       "      <td>30.450406</td>\n",
       "      <td>-91.184479</td>\n",
       "      <td>2.254692e+09</td>\n",
       "      <td>115.285714</td>\n",
       "      <td>94759.142857</td>\n",
       "      <td>2.792857</td>\n",
       "      <td>0.285714</td>\n",
       "      <td>0.400000</td>\n",
       "      <td>NaN</td>\n",
       "      <td>94.042857</td>\n",
       "      <td>1385.571429</td>\n",
       "      <td>0.016578</td>\n",
       "      <td>1.649277</td>\n",
       "    </tr>\n",
       "    <tr>\n",
       "      <th>Baton Rouge - North</th>\n",
       "      <td>117.0</td>\n",
       "      <td>7.0</td>\n",
       "      <td>70773.571429</td>\n",
       "      <td>30.601497</td>\n",
       "      <td>-91.171873</td>\n",
       "      <td>2.256500e+09</td>\n",
       "      <td>163.285714</td>\n",
       "      <td>156086.000000</td>\n",
       "      <td>13.213814</td>\n",
       "      <td>0.000000</td>\n",
       "      <td>0.000000</td>\n",
       "      <td>NaN</td>\n",
       "      <td>94.300000</td>\n",
       "      <td>1082.714286</td>\n",
       "      <td>0.008715</td>\n",
       "      <td>1.164883</td>\n",
       "    </tr>\n",
       "    <tr>\n",
       "      <th>Baton Rouge - South</th>\n",
       "      <td>117.0</td>\n",
       "      <td>4.0</td>\n",
       "      <td>70816.222222</td>\n",
       "      <td>30.379141</td>\n",
       "      <td>-91.074728</td>\n",
       "      <td>2.255770e+09</td>\n",
       "      <td>217.555556</td>\n",
       "      <td>216195.000000</td>\n",
       "      <td>11.741111</td>\n",
       "      <td>0.222222</td>\n",
       "      <td>0.000000</td>\n",
       "      <td>NaN</td>\n",
       "      <td>88.266667</td>\n",
       "      <td>1311.666667</td>\n",
       "      <td>0.006963</td>\n",
       "      <td>1.354260</td>\n",
       "    </tr>\n",
       "    <tr>\n",
       "      <th>Baton Rouge - West</th>\n",
       "      <td>117.0</td>\n",
       "      <td>6.0</td>\n",
       "      <td>70729.000000</td>\n",
       "      <td>30.399611</td>\n",
       "      <td>-91.245858</td>\n",
       "      <td>2.253659e+09</td>\n",
       "      <td>121.333333</td>\n",
       "      <td>105953.333333</td>\n",
       "      <td>5.143333</td>\n",
       "      <td>0.000000</td>\n",
       "      <td>NaN</td>\n",
       "      <td>NaN</td>\n",
       "      <td>88.433333</td>\n",
       "      <td>1097.000000</td>\n",
       "      <td>0.014542</td>\n",
       "      <td>1.283166</td>\n",
       "    </tr>\n",
       "    <tr>\n",
       "      <th>Broadmoor-Sherwood Forest</th>\n",
       "      <td>117.0</td>\n",
       "      <td>10.0</td>\n",
       "      <td>70815.769231</td>\n",
       "      <td>30.441514</td>\n",
       "      <td>-91.050752</td>\n",
       "      <td>2.253577e+09</td>\n",
       "      <td>184.769231</td>\n",
       "      <td>175871.307692</td>\n",
       "      <td>8.996923</td>\n",
       "      <td>0.000000</td>\n",
       "      <td>NaN</td>\n",
       "      <td>NaN</td>\n",
       "      <td>81.923077</td>\n",
       "      <td>858.000000</td>\n",
       "      <td>0.006145</td>\n",
       "      <td>0.913195</td>\n",
       "    </tr>\n",
       "    <tr>\n",
       "      <th>...</th>\n",
       "      <th>...</th>\n",
       "      <td>...</td>\n",
       "      <td>...</td>\n",
       "      <td>...</td>\n",
       "      <td>...</td>\n",
       "      <td>...</td>\n",
       "      <td>...</td>\n",
       "      <td>...</td>\n",
       "      <td>...</td>\n",
       "      <td>...</td>\n",
       "      <td>...</td>\n",
       "      <td>...</td>\n",
       "      <td>...</td>\n",
       "      <td>...</td>\n",
       "      <td>...</td>\n",
       "      <td>...</td>\n",
       "      <td>...</td>\n",
       "    </tr>\n",
       "    <tr>\n",
       "      <th rowspan=\"4\" valign=\"top\">New Orleans</th>\n",
       "      <th>Terrytown</th>\n",
       "      <td>116.0</td>\n",
       "      <td>17.0</td>\n",
       "      <td>70056.000000</td>\n",
       "      <td>29.895435</td>\n",
       "      <td>-90.032544</td>\n",
       "      <td>5.043811e+09</td>\n",
       "      <td>189.761905</td>\n",
       "      <td>166419.047619</td>\n",
       "      <td>7.206190</td>\n",
       "      <td>0.000000</td>\n",
       "      <td>0.000000</td>\n",
       "      <td>NaN</td>\n",
       "      <td>89.271429</td>\n",
       "      <td>906.904762</td>\n",
       "      <td>0.006977</td>\n",
       "      <td>1.064486</td>\n",
       "    </tr>\n",
       "    <tr>\n",
       "      <th>Uptown-Carrollton</th>\n",
       "      <td>116.0</td>\n",
       "      <td>2.0</td>\n",
       "      <td>70121.500000</td>\n",
       "      <td>29.957315</td>\n",
       "      <td>-90.113366</td>\n",
       "      <td>5.045839e+09</td>\n",
       "      <td>168.250000</td>\n",
       "      <td>145779.750000</td>\n",
       "      <td>3.002500</td>\n",
       "      <td>0.000000</td>\n",
       "      <td>0.666667</td>\n",
       "      <td>NaN</td>\n",
       "      <td>91.500000</td>\n",
       "      <td>1227.750000</td>\n",
       "      <td>0.014445</td>\n",
       "      <td>1.544766</td>\n",
       "    </tr>\n",
       "    <tr>\n",
       "      <th>Venetian Isles</th>\n",
       "      <td>116.0</td>\n",
       "      <td>20.0</td>\n",
       "      <td>70126.000000</td>\n",
       "      <td>30.008786</td>\n",
       "      <td>-90.018885</td>\n",
       "      <td>5.045138e+09</td>\n",
       "      <td>100.000000</td>\n",
       "      <td>72425.000000</td>\n",
       "      <td>4.920000</td>\n",
       "      <td>0.000000</td>\n",
       "      <td>NaN</td>\n",
       "      <td>NaN</td>\n",
       "      <td>80.000000</td>\n",
       "      <td>723.000000</td>\n",
       "      <td>0.009983</td>\n",
       "      <td>0.998274</td>\n",
       "    </tr>\n",
       "    <tr>\n",
       "      <th>Westwego</th>\n",
       "      <td>116.0</td>\n",
       "      <td>9.0</td>\n",
       "      <td>70094.000000</td>\n",
       "      <td>29.912135</td>\n",
       "      <td>-90.153797</td>\n",
       "      <td>5.043897e+09</td>\n",
       "      <td>259.500000</td>\n",
       "      <td>209927.500000</td>\n",
       "      <td>10.890000</td>\n",
       "      <td>0.000000</td>\n",
       "      <td>NaN</td>\n",
       "      <td>NaN</td>\n",
       "      <td>97.700000</td>\n",
       "      <td>878.500000</td>\n",
       "      <td>0.005423</td>\n",
       "      <td>1.101290</td>\n",
       "    </tr>\n",
       "    <tr>\n",
       "      <th>Ole Miss</th>\n",
       "      <th>University of Mississippi</th>\n",
       "      <td>180.0</td>\n",
       "      <td>1.0</td>\n",
       "      <td>38655.000000</td>\n",
       "      <td>34.360515</td>\n",
       "      <td>-89.542322</td>\n",
       "      <td>6.624651e+09</td>\n",
       "      <td>172.782609</td>\n",
       "      <td>201554.782609</td>\n",
       "      <td>20.897391</td>\n",
       "      <td>0.000000</td>\n",
       "      <td>NaN</td>\n",
       "      <td>NaN</td>\n",
       "      <td>NaN</td>\n",
       "      <td>1337.913043</td>\n",
       "      <td>0.009097</td>\n",
       "      <td>1.169179</td>\n",
       "    </tr>\n",
       "  </tbody>\n",
       "</table>\n",
       "<p>332 rows × 16 columns</p>\n",
       "</div>"
      ],
      "text/plain": [
       "                                       MARKETID  SUBMARKET_CODE  \\\n",
       "MARKET_NAME SUBMARKET_NAME                                        \n",
       "Baton Rouge Baton Rouge - Downtown        117.0             1.0   \n",
       "            Baton Rouge - North           117.0             7.0   \n",
       "            Baton Rouge - South           117.0             4.0   \n",
       "            Baton Rouge - West            117.0             6.0   \n",
       "            Broadmoor-Sherwood Forest     117.0            10.0   \n",
       "...                                         ...             ...   \n",
       "New Orleans Terrytown                     116.0            17.0   \n",
       "            Uptown-Carrollton             116.0             2.0   \n",
       "            Venetian Isles                116.0            20.0   \n",
       "            Westwego                      116.0             9.0   \n",
       "Ole Miss    University of Mississippi     180.0             1.0   \n",
       "\n",
       "                                       PROPERTY_ZIPCODE  PROPERTY_LATITUDE  \\\n",
       "MARKET_NAME SUBMARKET_NAME                                                   \n",
       "Baton Rouge Baton Rouge - Downtown         70802.000000          30.450406   \n",
       "            Baton Rouge - North            70773.571429          30.601497   \n",
       "            Baton Rouge - South            70816.222222          30.379141   \n",
       "            Baton Rouge - West             70729.000000          30.399611   \n",
       "            Broadmoor-Sherwood Forest      70815.769231          30.441514   \n",
       "...                                                 ...                ...   \n",
       "New Orleans Terrytown                      70056.000000          29.895435   \n",
       "            Uptown-Carrollton              70121.500000          29.957315   \n",
       "            Venetian Isles                 70126.000000          30.008786   \n",
       "            Westwego                       70094.000000          29.912135   \n",
       "Ole Miss    University of Mississippi      38655.000000          34.360515   \n",
       "\n",
       "                                       PROPERTY_LONGITUDE  PROPERTY_PHONE  \\\n",
       "MARKET_NAME SUBMARKET_NAME                                                  \n",
       "Baton Rouge Baton Rouge - Downtown             -91.184479    2.254692e+09   \n",
       "            Baton Rouge - North                -91.171873    2.256500e+09   \n",
       "            Baton Rouge - South                -91.074728    2.255770e+09   \n",
       "            Baton Rouge - West                 -91.245858    2.253659e+09   \n",
       "            Broadmoor-Sherwood Forest          -91.050752    2.253577e+09   \n",
       "...                                                   ...             ...   \n",
       "New Orleans Terrytown                          -90.032544    5.043811e+09   \n",
       "            Uptown-Carrollton                  -90.113366    5.045839e+09   \n",
       "            Venetian Isles                     -90.018885    5.045138e+09   \n",
       "            Westwego                           -90.153797    5.043897e+09   \n",
       "Ole Miss    University of Mississippi          -89.542322    6.624651e+09   \n",
       "\n",
       "                                       PROPERTY_UNITS  PROPERTY_SQFT  \\\n",
       "MARKET_NAME SUBMARKET_NAME                                             \n",
       "Baton Rouge Baton Rouge - Downtown         115.285714   94759.142857   \n",
       "            Baton Rouge - North            163.285714  156086.000000   \n",
       "            Baton Rouge - South            217.555556  216195.000000   \n",
       "            Baton Rouge - West             121.333333  105953.333333   \n",
       "            Broadmoor-Sherwood Forest      184.769231  175871.307692   \n",
       "...                                               ...            ...   \n",
       "New Orleans Terrytown                      189.761905  166419.047619   \n",
       "            Uptown-Carrollton              168.250000  145779.750000   \n",
       "            Venetian Isles                 100.000000   72425.000000   \n",
       "            Westwego                       259.500000  209927.500000   \n",
       "Ole Miss    University of Mississippi      172.782609  201554.782609   \n",
       "\n",
       "                                       PROPERTY_ACRES  PROPERTY_MIXEDUSE  \\\n",
       "MARKET_NAME SUBMARKET_NAME                                                 \n",
       "Baton Rouge Baton Rouge - Downtown           2.792857           0.285714   \n",
       "            Baton Rouge - North             13.213814           0.000000   \n",
       "            Baton Rouge - South             11.741111           0.222222   \n",
       "            Baton Rouge - West               5.143333           0.000000   \n",
       "            Broadmoor-Sherwood Forest        8.996923           0.000000   \n",
       "...                                               ...                ...   \n",
       "New Orleans Terrytown                        7.206190           0.000000   \n",
       "            Uptown-Carrollton                3.002500           0.000000   \n",
       "            Venetian Isles                   4.920000           0.000000   \n",
       "            Westwego                        10.890000           0.000000   \n",
       "Ole Miss    University of Mississippi       20.897391           0.000000   \n",
       "\n",
       "                                       PROPERTY_ADAPTIVEREUSE  \\\n",
       "MARKET_NAME SUBMARKET_NAME                                      \n",
       "Baton Rouge Baton Rouge - Downtown                   0.400000   \n",
       "            Baton Rouge - North                      0.000000   \n",
       "            Baton Rouge - South                      0.000000   \n",
       "            Baton Rouge - West                            NaN   \n",
       "            Broadmoor-Sherwood Forest                     NaN   \n",
       "...                                                       ...   \n",
       "New Orleans Terrytown                                0.000000   \n",
       "            Uptown-Carrollton                        0.666667   \n",
       "            Venetian Isles                                NaN   \n",
       "            Westwego                                      NaN   \n",
       "Ole Miss    University of Mississippi                     NaN   \n",
       "\n",
       "                                       PROPERTY_SINGLEFAMILYRENTAL  \\\n",
       "MARKET_NAME SUBMARKET_NAME                                           \n",
       "Baton Rouge Baton Rouge - Downtown                             NaN   \n",
       "            Baton Rouge - North                                NaN   \n",
       "            Baton Rouge - South                                NaN   \n",
       "            Baton Rouge - West                                 NaN   \n",
       "            Broadmoor-Sherwood Forest                          NaN   \n",
       "...                                                            ...   \n",
       "New Orleans Terrytown                                          NaN   \n",
       "            Uptown-Carrollton                                  NaN   \n",
       "            Venetian Isles                                     NaN   \n",
       "            Westwego                                           NaN   \n",
       "Ole Miss    University of Mississippi                          NaN   \n",
       "\n",
       "                                       PROPERTY_CURRENT_OCCUPANCY  \\\n",
       "MARKET_NAME SUBMARKET_NAME                                          \n",
       "Baton Rouge Baton Rouge - Downtown                      94.042857   \n",
       "            Baton Rouge - North                         94.300000   \n",
       "            Baton Rouge - South                         88.266667   \n",
       "            Baton Rouge - West                          88.433333   \n",
       "            Broadmoor-Sherwood Forest                   81.923077   \n",
       "...                                                           ...   \n",
       "New Orleans Terrytown                                   89.271429   \n",
       "            Uptown-Carrollton                           91.500000   \n",
       "            Venetian Isles                              80.000000   \n",
       "            Westwego                                    97.700000   \n",
       "Ole Miss    University of Mississippi                         NaN   \n",
       "\n",
       "                                       PROPERTY_CURRENT_RENT  \\\n",
       "MARKET_NAME SUBMARKET_NAME                                     \n",
       "Baton Rouge Baton Rouge - Downtown               1385.571429   \n",
       "            Baton Rouge - North                  1082.714286   \n",
       "            Baton Rouge - South                  1311.666667   \n",
       "            Baton Rouge - West                   1097.000000   \n",
       "            Broadmoor-Sherwood Forest             858.000000   \n",
       "...                                                      ...   \n",
       "New Orleans Terrytown                             906.904762   \n",
       "            Uptown-Carrollton                    1227.750000   \n",
       "            Venetian Isles                        723.000000   \n",
       "            Westwego                              878.500000   \n",
       "Ole Miss    University of Mississippi            1337.913043   \n",
       "\n",
       "                                       PROPERTY_RENTPERSQFT  \\\n",
       "MARKET_NAME SUBMARKET_NAME                                    \n",
       "Baton Rouge Baton Rouge - Downtown                 0.016578   \n",
       "            Baton Rouge - North                    0.008715   \n",
       "            Baton Rouge - South                    0.006963   \n",
       "            Baton Rouge - West                     0.014542   \n",
       "            Broadmoor-Sherwood Forest              0.006145   \n",
       "...                                                     ...   \n",
       "New Orleans Terrytown                              0.006977   \n",
       "            Uptown-Carrollton                      0.014445   \n",
       "            Venetian Isles                         0.009983   \n",
       "            Westwego                               0.005423   \n",
       "Ole Miss    University of Mississippi              0.009097   \n",
       "\n",
       "                                       PROPERTY_RENTPERSQFTALLUNITS  \n",
       "MARKET_NAME SUBMARKET_NAME                                           \n",
       "Baton Rouge Baton Rouge - Downtown                         1.649277  \n",
       "            Baton Rouge - North                            1.164883  \n",
       "            Baton Rouge - South                            1.354260  \n",
       "            Baton Rouge - West                             1.283166  \n",
       "            Broadmoor-Sherwood Forest                      0.913195  \n",
       "...                                                             ...  \n",
       "New Orleans Terrytown                                      1.064486  \n",
       "            Uptown-Carrollton                              1.544766  \n",
       "            Venetian Isles                                 0.998274  \n",
       "            Westwego                                       1.101290  \n",
       "Ole Miss    University of Mississippi                      1.169179  \n",
       "\n",
       "[332 rows x 16 columns]"
      ]
     },
     "execution_count": 12,
     "metadata": {},
     "output_type": "execute_result"
    }
   ],
   "source": [
    "filter2.groupby(['MARKET_NAME','SUBMARKET_NAME']).mean()"
   ]
  },
  {
   "cell_type": "markdown",
   "metadata": {},
   "source": [
    "## Filter 3: Removing properties with no SQFT information"
   ]
  },
  {
   "cell_type": "code",
   "execution_count": 13,
   "metadata": {},
   "outputs": [],
   "source": [
    "filter3 = filter2[filter2.PROPERTY_SQFT > 0]"
   ]
  },
  {
   "cell_type": "code",
   "execution_count": 14,
   "metadata": {},
   "outputs": [
    {
     "data": {
      "text/plain": [
       "(3493, 39)"
      ]
     },
     "execution_count": 14,
     "metadata": {},
     "output_type": "execute_result"
    }
   ],
   "source": [
    "filter3.shape"
   ]
  },
  {
   "cell_type": "markdown",
   "metadata": {},
   "source": [
    "## Filter 4: Removing Student, Affordable, Military, Age Restricted Housing"
   ]
  },
  {
   "cell_type": "code",
   "execution_count": 15,
   "metadata": {},
   "outputs": [],
   "source": [
    "filter4 = filter3[(filter3.PROPERTY_STUDENTHOUSING == 'N') & (filter3.PROPERTY_AFFORDABLEHOUSING == 'N') & (filter3.PROPERTY_MILITARYHOUSING == 'N') & (filter3.PROPERTY_AGERESTRICTED == 'N')]\n"
   ]
  },
  {
   "cell_type": "code",
   "execution_count": 16,
   "metadata": {},
   "outputs": [
    {
     "data": {
      "text/plain": [
       "(3181, 39)"
      ]
     },
     "execution_count": 16,
     "metadata": {},
     "output_type": "execute_result"
    }
   ],
   "source": [
    "filter4.shape"
   ]
  },
  {
   "cell_type": "markdown",
   "metadata": {},
   "source": [
    "## Filter 5: Removing Property with no Submarket"
   ]
  },
  {
   "cell_type": "code",
   "execution_count": 17,
   "metadata": {},
   "outputs": [],
   "source": [
    "filter5 = filter4.dropna(subset = ['SUBMARKET_NAME'])"
   ]
  },
  {
   "cell_type": "code",
   "execution_count": 18,
   "metadata": {},
   "outputs": [
    {
     "data": {
      "text/plain": [
       "(3181, 39)"
      ]
     },
     "execution_count": 18,
     "metadata": {},
     "output_type": "execute_result"
    }
   ],
   "source": [
    "filter5.shape"
   ]
  },
  {
   "cell_type": "code",
   "execution_count": 19,
   "metadata": {},
   "outputs": [],
   "source": [
    "mean_submarket = filter5.groupby(['SUBMARKET_NAME']).PROPERTY_RENTPERSQFTALLUNITS.mean()\n",
    "mean_submarket_dict = mean_submarket.to_dict()\n",
    "filter5['mean_submarket'] = filter5['SUBMARKET_NAME'].map(mean_submarket_dict)\n"
   ]
  },
  {
   "cell_type": "code",
   "execution_count": 20,
   "metadata": {},
   "outputs": [],
   "source": [
    "min_submarket = filter5.groupby(['SUBMARKET_NAME']).PROPERTY_RENTPERSQFTALLUNITS.min()\n",
    "min_submarket_dict = min_submarket.to_dict()\n",
    "filter5['min_submarket'] = filter5['SUBMARKET_NAME'].map(min_submarket_dict)"
   ]
  },
  {
   "cell_type": "code",
   "execution_count": 21,
   "metadata": {},
   "outputs": [],
   "source": [
    "max_submarket = filter5.groupby(['SUBMARKET_NAME']).PROPERTY_RENTPERSQFTALLUNITS.max()\n",
    "max_submarket_dict = max_submarket.to_dict()\n",
    "filter5['max_submarket'] = filter5['SUBMARKET_NAME'].map(max_submarket_dict)\n"
   ]
  },
  {
   "cell_type": "code",
   "execution_count": 22,
   "metadata": {},
   "outputs": [],
   "source": [
    "mean_market = filter5.groupby(['MARKET_NAME']).PROPERTY_RENTPERSQFTALLUNITS.mean()\n",
    "mean_market_dict = mean_market.to_dict()\n",
    "filter5['mean_market'] = filter5['MARKET_NAME'].map(mean_market_dict)"
   ]
  },
  {
   "cell_type": "code",
   "execution_count": 23,
   "metadata": {},
   "outputs": [],
   "source": [
    "min_market = filter5.groupby(['MARKET_NAME']).PROPERTY_RENTPERSQFTALLUNITS.min()\n",
    "min_market_dict = min_market.to_dict()\n",
    "filter5['min_market'] = filter5['MARKET_NAME'].map(min_market_dict)"
   ]
  },
  {
   "cell_type": "code",
   "execution_count": 24,
   "metadata": {},
   "outputs": [],
   "source": [
    "max_market = filter5.groupby(['MARKET_NAME']).PROPERTY_RENTPERSQFTALLUNITS.max()\n",
    "max_market_dict = max_market.to_dict()\n",
    "filter5['max_market'] = filter5['MARKET_NAME'].map(max_market_dict)"
   ]
  },
  {
   "cell_type": "code",
   "execution_count": 25,
   "metadata": {},
   "outputs": [
    {
     "data": {
      "text/plain": [
       "(3181, 45)"
      ]
     },
     "execution_count": 25,
     "metadata": {},
     "output_type": "execute_result"
    }
   ],
   "source": [
    "filter5.shape"
   ]
  },
  {
   "cell_type": "code",
   "execution_count": 26,
   "metadata": {},
   "outputs": [
    {
     "data": {
      "text/plain": [
       "Index(['PROPERTY_ID', 'MARKETID', 'MARKET_NAME', 'SUBMARKET_CODE',\n",
       "       'SUBMARKET_NAME', 'COUNTY_NAME', 'PROPERTY_NAME', 'PROPERTY_PRIORNAMES',\n",
       "       'PROPERTY_ADDRESS', 'PROPERTY_CITY', 'PROPERTY_STATE',\n",
       "       'PROPERTY_ZIPCODE', 'PROPERTY_LATITUDE', 'PROPERTY_LONGITUDE',\n",
       "       'PROPERTY_PHONE', 'PROPERTY_UNITS', 'PROPERTY_SQFT', 'PROPERTY_ACRES',\n",
       "       'PROPERTY_IMPRATING', 'PROPERTY_LOCRATING', 'PROPERTY_STATUS',\n",
       "       'PROPERTY_DATE_PLANNED', 'PROPERTY_DATE_UNDERCONSTRUCTION',\n",
       "       'PROPERTY_DATE_RENTUP', 'PROPERTY_DATECOMPLETED', 'PROPERTY_MIXEDUSE',\n",
       "       'PROPERTY_MIXEDUSE_NOTES', 'PROPERTY_STUDENTHOUSING',\n",
       "       'PROPERTY_AFFORDABLEHOUSING', 'PROPERTY_MILITARYHOUSING',\n",
       "       'PROPERTY_AGERESTRICTED', 'PROPERTY_FRACTUREDCONDO',\n",
       "       'PROPERTY_ADAPTIVEREUSE', 'PROPERTY_SINGLEFAMILYRENTAL',\n",
       "       'PROPERTY_CURRENT_OCCUPANCY', 'PROPERTY_CURRENT_RENT',\n",
       "       'PROPERTY_MATRIX_URL', 'PROPERTY_RENTPERSQFT',\n",
       "       'PROPERTY_RENTPERSQFTALLUNITS', 'mean_submarket', 'min_submarket',\n",
       "       'max_submarket', 'mean_market', 'min_market', 'max_market'],\n",
       "      dtype='object')"
      ]
     },
     "execution_count": 26,
     "metadata": {},
     "output_type": "execute_result"
    }
   ],
   "source": [
    "filter5.columns"
   ]
  },
  {
   "cell_type": "code",
   "execution_count": 27,
   "metadata": {},
   "outputs": [],
   "source": [
    "filter5 = filter5.loc[:,['PROPERTY_ID', 'MARKETID', 'MARKET_NAME', 'SUBMARKET_CODE', 'SUBMARKET_NAME', 'COUNTY_NAME', 'PROPERTY_NAME', 'PROPERTY_PRIORNAMES','PROPERTY_ADDRESS', 'PROPERTY_CITY', 'PROPERTY_STATE','PROPERTY_ZIPCODE', 'PROPERTY_LATITUDE', 'PROPERTY_LONGITUDE', 'PROPERTY_UNITS', 'PROPERTY_SQFT', 'PROPERTY_ACRES','PROPERTY_IMPRATING', 'PROPERTY_LOCRATING', 'PROPERTY_DATECOMPLETED','PROPERTY_CURRENT_OCCUPANCY', 'PROPERTY_CURRENT_RENT','PROPERTY_RENTPERSQFT','PROPERTY_RENTPERSQFTALLUNITS', 'mean_submarket', 'min_submarket','max_submarket', 'mean_market', 'min_market', 'max_market']]"
   ]
  },
  {
   "cell_type": "code",
   "execution_count": 28,
   "metadata": {},
   "outputs": [
    {
     "data": {
      "text/plain": [
       "(3181, 30)"
      ]
     },
     "execution_count": 28,
     "metadata": {},
     "output_type": "execute_result"
    }
   ],
   "source": [
    "filter5.shape"
   ]
  },
  {
   "cell_type": "markdown",
   "metadata": {},
   "source": [
    "## Filter 6: Removing Property with missing IMP/LOC rating"
   ]
  },
  {
   "cell_type": "code",
   "execution_count": 29,
   "metadata": {},
   "outputs": [
    {
     "data": {
      "text/plain": [
       "0"
      ]
     },
     "execution_count": 29,
     "metadata": {},
     "output_type": "execute_result"
    }
   ],
   "source": [
    "filter5['PROPERTY_IMPRATING'].isnull().sum()\n",
    "filter5['PROPERTY_LOCRATING'].isnull().sum()"
   ]
  },
  {
   "cell_type": "code",
   "execution_count": 30,
   "metadata": {},
   "outputs": [],
   "source": [
    "filter5['PROPERTY_IMPRATING'].replace('', np.nan, inplace=True)\n",
    "filter5['PROPERTY_LOCRATING'].replace('', np.nan, inplace=True)"
   ]
  },
  {
   "cell_type": "code",
   "execution_count": 31,
   "metadata": {},
   "outputs": [],
   "source": [
    "filter6 = filter5.dropna(subset=['PROPERTY_IMPRATING','PROPERTY_LOCRATING'])"
   ]
  },
  {
   "cell_type": "code",
   "execution_count": 32,
   "metadata": {},
   "outputs": [],
   "source": [
    "final_data = filter6"
   ]
  },
  {
   "cell_type": "code",
   "execution_count": 33,
   "metadata": {},
   "outputs": [
    {
     "data": {
      "text/plain": [
       "(3176, 30)"
      ]
     },
     "execution_count": 33,
     "metadata": {},
     "output_type": "execute_result"
    }
   ],
   "source": [
    "final_data.shape"
   ]
  },
  {
   "cell_type": "code",
   "execution_count": 34,
   "metadata": {},
   "outputs": [],
   "source": [
    "final_data = final_data.reset_index(drop=True)"
   ]
  },
  {
   "cell_type": "code",
   "execution_count": 35,
   "metadata": {},
   "outputs": [],
   "source": [
    "final_data.to_excel('South_FilterData.xlsx')"
   ]
  },
  {
   "cell_type": "code",
   "execution_count": null,
   "metadata": {},
   "outputs": [],
   "source": []
  }
 ],
 "metadata": {
  "interpreter": {
   "hash": "c2db4c34adccbb055b8ce3d34ec4c4f85699aca77be4e68353935c121c454c3b"
  },
  "kernelspec": {
   "display_name": "Python 3.8.8 64-bit ('base': conda)",
   "language": "python",
   "name": "python3"
  },
  "language_info": {
   "codemirror_mode": {
    "name": "ipython",
    "version": 3
   },
   "file_extension": ".py",
   "mimetype": "text/x-python",
   "name": "python",
   "nbconvert_exporter": "python",
   "pygments_lexer": "ipython3",
   "version": "3.8.8"
  },
  "orig_nbformat": 4
 },
 "nbformat": 4,
 "nbformat_minor": 2
}
